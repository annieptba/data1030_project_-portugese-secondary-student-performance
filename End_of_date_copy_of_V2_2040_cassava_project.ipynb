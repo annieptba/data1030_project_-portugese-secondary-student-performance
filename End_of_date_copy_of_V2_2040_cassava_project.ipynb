{
  "nbformat": 4,
  "nbformat_minor": 0,
  "metadata": {
    "accelerator": "GPU",
    "colab": {
      "name": "End of date copy of V2_2040_cassava_project.ipynb",
      "provenance": [],
      "collapsed_sections": [],
      "include_colab_link": true
    },
    "kernelspec": {
      "display_name": "Python 3",
      "name": "python3"
    }
  },
  "cells": [
    {
      "cell_type": "markdown",
      "metadata": {
        "id": "view-in-github",
        "colab_type": "text"
      },
      "source": [
        "<a href=\"https://colab.research.google.com/github/annieptba/data1030_project_-portugese-secondary-student-performance/blob/main/End_of_date_copy_of_V2_2040_cassava_project.ipynb\" target=\"_parent\"><img src=\"https://colab.research.google.com/assets/colab-badge.svg\" alt=\"Open In Colab\"/></a>"
      ]
    },
    {
      "cell_type": "code",
      "metadata": {
        "id": "TIebYauvfPIu"
      },
      "source": [
        "#Create api key\n",
        "#and yout colab:\n",
        "\n",
        "#DO NOT NEED TO RUN UNLESS YOU HAVE TO CHANGE API\n",
        "#from google.colab import files\n",
        "#files.upload() #upload kaggle.json"
      ],
      "execution_count": null,
      "outputs": []
    },
    {
      "cell_type": "code",
      "metadata": {
        "id": "ykfSRfyJXNnN"
      },
      "source": [
        "# Uninstall and reinstall kaggle\n",
        "!pip uninstall -y kaggle\n",
        "!pip install kaggle\n",
        "# Set environment variables for using the Kaggle API.\n",
        "\n",
        "# Go to Kaggle.\n",
        "# Click on account.\n",
        "# Click the 'Create New API Token' button.\n",
        "# A .json file will download.\n",
        "# Open the file with a text editor and\n",
        "# copy and paste your username and key from that file below.\n"
      ],
      "execution_count": null,
      "outputs": []
    },
    {
      "cell_type": "code",
      "metadata": {
        "id": "SZs5F9DUXY-P"
      },
      "source": [
        "import os\n",
        "\n",
        "os.environ[\"KAGGLE_USERNAME\"] = 'drewsolomon'\n",
        "os.environ[\"KAGGLE_KEY\"] = '394c2e9f24d40740b88dbd424a87235f'\n",
        "# Download the data from the kaggle competition\n",
        "\n",
        "raw_data_dir = \"input/raw\"\n",
        "\n",
        "!kaggle competitions download -c cassava-leaf-disease-classification -p {raw_data_dir}\n",
        "'done'"
      ],
      "execution_count": null,
      "outputs": []
    },
    {
      "cell_type": "code",
      "metadata": {
        "id": "CeZGMlcoZ4Ry"
      },
      "source": [
        "# Check that the zip file was downloaded\n",
        "!ls {raw_data_dir}"
      ],
      "execution_count": null,
      "outputs": []
    },
    {
      "cell_type": "code",
      "metadata": {
        "id": "azNcpRzcaALh"
      },
      "source": [
        "# Fuze-zip allows us to access zipped folders without\n",
        "# first unzipping them. This is helpful when working\n",
        "# with large files.\n",
        "\n",
        "!apt-get install -y fuse-zip\n",
        "# Apply fuze-zip to the  data\n",
        "\n",
        "input_dir = \"/tmp/kaggle-data\"\n",
        "!mkdir {input_dir}\n",
        "!fuse-zip input/raw/cassava-leaf-disease-classification.zip {input_dir}\n",
        "# Check that everything is working.\n",
        "!ls {input_dir}"
      ],
      "execution_count": null,
      "outputs": []
    },
    {
      "cell_type": "code",
      "metadata": {
        "id": "dFKdGvUg2leT"
      },
      "source": [
        "# Set up the environment\n",
        "import math, re, os\n",
        "import tensorflow as tf\n",
        "import numpy as np\n",
        "import pandas as pd\n",
        "import matplotlib.pyplot as plt\n",
        "from tensorflow import keras\n",
        "from functools import partial\n",
        "from sklearn.model_selection import train_test_split\n",
        "import numpy as np \n",
        "import pandas as pd\n",
        "import gc\n",
        "import random\n",
        "from sklearn.model_selection import train_test_split\n",
        "from keras.utils import to_categorical\n",
        "from tqdm import tqdm\n",
        "from keras.preprocessing import image\n",
        "from keras.preprocessing.image import img_to_array, load_img, ImageDataGenerator\n",
        "import cv2\n",
        "from random import shuffle\n",
        "from keras.models import Sequential\n",
        "from keras.layers import Conv2D, MaxPooling2D, Dropout, Flatten, Dense, Activation, BatchNormalization\n",
        "import keras\n",
        "from keras.layers import Dense, Dropout, Input, MaxPooling2D, ZeroPadding2D, Conv2D, Flatten\n",
        "from keras.models import Sequential, Model\n",
        "from keras.losses import categorical_crossentropy\n",
        "from keras.optimizers import Adam, SGD\n",
        "from keras.preprocessing.image import img_to_array, load_img, ImageDataGenerator\n",
        "from keras.utils import to_categorical\n",
        "from tensorflow.keras import regularizers\n",
        "\n",
        "from tensorflow.keras.layers import MaxPool2D, AveragePooling2D, GlobalAveragePooling2D\n",
        "import numpy as np\n",
        "import pandas as pd\n",
        "from sklearn.model_selection import train_test_split\n",
        "\n",
        "import matplotlib.pyplot as plt\n",
        "from mpl_toolkits.axes_grid1 import ImageGrid\n",
        "\n",
        "from zipfile import ZipFile\n",
        "import time\n",
        "from datetime import timedelta\n",
        "from io import BytesIO\n",
        "\n",
        "# Image manipulation.\n",
        "import PIL.Image\n",
        "\n",
        "import pickle\n",
        "import os\n",
        "\n",
        "import random\n",
        "print(\"Tensorflow version \" + tf.__version__)\n",
        "\n",
        "import seaborn as sns"
      ],
      "execution_count": null,
      "outputs": []
    },
    {
      "cell_type": "code",
      "metadata": {
        "id": "Q07ElpzFa1mz"
      },
      "source": [
        "# Use this path to access the downloaded folders\n",
        "base_path = '/tmp/kaggle-data/'\n",
        "\n",
        "os.listdir(base_path)"
      ],
      "execution_count": null,
      "outputs": []
    },
    {
      "cell_type": "code",
      "metadata": {
        "id": "neRJ2Q2yeW5i"
      },
      "source": [
        "import pandas as pd\n",
        "import json\n",
        "train_data = pd.read_csv(base_path + '/train.csv')"
      ],
      "execution_count": null,
      "outputs": []
    },
    {
      "cell_type": "code",
      "metadata": {
        "id": "3IE99bTMfS39"
      },
      "source": [
        "# show head of training data\n",
        "train_data.head()"
      ],
      "execution_count": null,
      "outputs": []
    },
    {
      "cell_type": "code",
      "metadata": {
        "id": "dX7KxOSajAyn"
      },
      "source": [
        "# load the labels map json file\n",
        "with open(base_path + 'label_num_to_disease_map.json', 'rb') as f:\n",
        "    jsonlabels = json.load(f)\n",
        "    \n",
        "# add labels from json file into dictionary\n",
        "labels_dict = {}\n",
        "labels_dict[0] = jsonlabels['0']\n",
        "labels_dict[1] = jsonlabels['1']\n",
        "labels_dict[2] = jsonlabels['2']\n",
        "labels_dict[3] = jsonlabels['3']\n",
        "labels_dict[4] = jsonlabels['4']\n",
        "\n",
        "# print labels dictionary\n",
        "labels_dict"
      ],
      "execution_count": null,
      "outputs": []
    },
    {
      "cell_type": "code",
      "metadata": {
        "id": "1ecl_zIY1VVq"
      },
      "source": [
        "# add class names to dataframe in new column\n",
        "train_data[\"disease\"] = train_data[\"label\"].map(labels_dict)"
      ],
      "execution_count": null,
      "outputs": []
    },
    {
      "cell_type": "code",
      "metadata": {
        "id": "VlVbZMCuummQ"
      },
      "source": [
        "# print head\n",
        "train_data.head()"
      ],
      "execution_count": null,
      "outputs": []
    },
    {
      "cell_type": "code",
      "metadata": {
        "id": "3eGsJj1stT2u"
      },
      "source": [
        "# get value counts by label\n",
        "train_data['label'].value_counts()"
      ],
      "execution_count": null,
      "outputs": []
    },
    {
      "cell_type": "code",
      "metadata": {
        "id": "N-G44lo3rvII"
      },
      "source": [
        "import matplotlib.pyplot as plt\n",
        "import numpy as np\n",
        "import pandas as pd\n",
        "\n",
        "# plot class balance\n",
        "pd.value_counts(train_data['label']).plot.bar(color=['red', 'lightgreen', 'purple', 'pink', 'orange'])\n",
        "plt.title('Cassava disease class balance', fontsize=16)\n",
        "plt.xlabel('Class', fontsize=13)\n",
        "plt.ylabel('Count', fontsize=13)\n",
        "y_pos = np.arange(5)\n",
        "plt.xticks(y_pos, rotation=0)\n",
        "plt.savefig(base_path + 'cassava_disease_class_balance.jpg',bbox_inches='tight')\n",
        "plt.show()"
      ],
      "execution_count": null,
      "outputs": []
    },
    {
      "cell_type": "code",
      "metadata": {
        "id": "4jpygwQgv-Kh"
      },
      "source": [
        "pd.value_counts(train_data['label'], normalize=True).plot.bar(color=['red', 'lightgreen', 'purple', 'pink', 'orange'])\n",
        "plt.title('Cassava disease class balance (normalized)', fontsize=16)\n",
        "plt.xlabel('Class', fontsize=13)\n",
        "plt.ylabel('Proportion', fontsize=13)\n",
        "y_pos = np.arange(5)\n",
        "plt.xticks(y_pos, rotation=0)\n",
        "plt.savefig(base_path + 'cassava_disease_class_balance(normalized).jpg',bbox_inches='tight')\n",
        "plt.show()"
      ],
      "execution_count": null,
      "outputs": []
    },
    {
      "cell_type": "code",
      "metadata": {
        "id": "TnychY4765AV"
      },
      "source": [
        "#import seaborn as sns\n",
        "plt.figure(figsize=(10, 6))\n",
        "plt.title('Cassava Disease Class Balance', fontsize=16)\n",
        "sns.countplot(y=\"disease\", data=train_data, palette=\"pastel\");"
      ],
      "execution_count": null,
      "outputs": []
    },
    {
      "cell_type": "code",
      "metadata": {
        "id": "xRmFoRD7SCYN"
      },
      "source": [
        "# print class balances\n",
        "pd.value_counts(train_data['disease'], normalize=True)"
      ],
      "execution_count": null,
      "outputs": []
    },
    {
      "cell_type": "code",
      "metadata": {
        "id": "eFQoLAhtfY_J"
      },
      "source": [
        "sample_submission = pd.read_csv(base_path + 'sample_submission.csv')"
      ],
      "execution_count": null,
      "outputs": []
    },
    {
      "cell_type": "code",
      "metadata": {
        "id": "t3Z-QhRUf4oF"
      },
      "source": [
        "sample_submission.head()"
      ],
      "execution_count": null,
      "outputs": []
    },
    {
      "cell_type": "code",
      "metadata": {
        "id": "ouaMHekI3OSu"
      },
      "source": [
        "def plot_image_examples(class_label_num, n_rows=2, n_cols=2):\n",
        "    \"\"\"Plots a grid with example of images for the specified class.\"\"\"\n",
        "    # Gets the label of the class.\n",
        "    class_label = labels_dict[class_label_num]\n",
        "    \n",
        "    # Filter the images by label.\n",
        "    label_df = train_data[train_data.label == class_label_num]\n",
        "    \n",
        "    # Random indices to plot.\n",
        "    rand_idx = np.random.randint(0, len(label_df), n_rows*n_cols)\n",
        "    \n",
        "    fig, axs = plt.subplots(n_rows, n_cols, figsize=(5,5))\n",
        "    \n",
        "    for row in range(n_rows):\n",
        "        for col in range(n_cols):\n",
        "            idx = rand_idx[row*n_cols + col]\n",
        "            img_path = os.path.join(base_path + '/train_images', label_df.image_id.values[idx])\n",
        "            img = PIL.Image.open(img_path)\n",
        "            axs[row, col].imshow(img)\n",
        "            axs[row, col].axis('off')\n",
        "            axs[row, col].set_title(label_df.image_id.values[idx])\n",
        "            \n",
        "    plt.suptitle(class_label, fontsize=12, fontweight=550)\n",
        "    plt.savefig(base_path + 'Example_of_images_for_each_class_(vertical).jpg',bbox_inches='tight')\n",
        "    plt.show()"
      ],
      "execution_count": null,
      "outputs": []
    },
    {
      "cell_type": "code",
      "metadata": {
        "id": "YEaPU6ph3OSv"
      },
      "source": [
        "for i in range(5):\n",
        "  plot_image_examples(i,2,2) "
      ],
      "execution_count": null,
      "outputs": []
    },
    {
      "cell_type": "code",
      "metadata": {
        "id": "CDFyJORyxBbW"
      },
      "source": [
        "_#random seed is used to replicate the same images in every run\n",
        "np.random.seed(2020)\n",
        "#plotting 5 random samples for each class with image name and disease name as title\n",
        "for class_name in train_data['disease'].unique():\n",
        "    plt.figure(figsize=(20,50))\n",
        "    for idx,img_name in enumerate(np.random.choice(train_data[train_data['disease'] == class_name]['image_id'].values,\n",
        "                                                   size=5,replace=False)):\n",
        "        plt.subplot(1,5,idx+1)\n",
        "        #reading the image and converting BGR color space to RGB\n",
        "        img = cv2.cvtColor(cv2.imread(base_path+'train_images/'+img_name), cv2.COLOR_BGR2RGB)\n",
        "        plt.imshow(img)\n",
        "        plt.axis('off')\n",
        "        # add title to center plot\n",
        "        if idx ==2:\n",
        "          plt.title(str(class_name), fontsize=20, pad=30)\n",
        "          plt.subplots_adjust(hspace=1)\n",
        "\n",
        "    plt.savefig(base_path + 'example_images_for_each_class.jpg',bbox_inches='tight')\n",
        "    plt.show()"
      ],
      "execution_count": null,
      "outputs": []
    },
    {
      "cell_type": "code",
      "metadata": {
        "id": "KbvakdPm9aro"
      },
      "source": [
        "for class_name in train_data['disease'].unique():\n",
        "  print(class_name)"
      ],
      "execution_count": null,
      "outputs": []
    },
    {
      "cell_type": "code",
      "metadata": {
        "id": "MhVIqVOAZp5H"
      },
      "source": [
        "# set hyperparameters\n",
        "BATCH_SIZE = 64\n",
        "STEPS_PER_EPOCH = len(train_data)*0.8 / BATCH_SIZE\n",
        "VALIDATION_STEPS = len(train_data)*0.2 / BATCH_SIZE\n",
        "EPOCHS = 16\n",
        "TARGET_SIZE = 192"
      ],
      "execution_count": null,
      "outputs": []
    },
    {
      "cell_type": "code",
      "metadata": {
        "id": "q6GP7KyXbgRf"
      },
      "source": [
        "train_data.label"
      ],
      "execution_count": null,
      "outputs": []
    },
    {
      "cell_type": "code",
      "metadata": {
        "id": "U7GfiHtKbZSr"
      },
      "source": [
        "# convert labels to strings for sparse class mode\n",
        "train_data.label = train_data.label.astype('str')\n",
        "\n",
        "# separate and augment training images\n",
        "train_generator = ImageDataGenerator(validation_split = 0.2,\n",
        "                                     rotation_range = 20,\n",
        "                                     preprocessing_function = None,\n",
        "                                     zoom_range = 0.2,\n",
        "                                     cval = 0.2,\n",
        "                                     horizontal_flip = True,\n",
        "                                     vertical_flip = True,\n",
        "                                     fill_mode = 'nearest',\n",
        "                                     shear_range = 0.3,\n",
        "                                     height_shift_range = 0.3,\n",
        "                                     width_shift_range = 0.3) \\\n",
        "    .flow_from_dataframe(train_data,\n",
        "                         directory = os.path.join(base_path, \"train_images\"),\n",
        "                         subset = \"training\",\n",
        "                         x_col = \"image_id\",\n",
        "                         y_col = \"label\",\n",
        "                         target_size = (TARGET_SIZE, TARGET_SIZE),\n",
        "                         batch_size = BATCH_SIZE,\n",
        "                         class_mode = \"sparse\")\n",
        "\n",
        "# separate and augment validation images\n",
        "validation_generator = ImageDataGenerator(validation_split = 0.2) \\\n",
        "    .flow_from_dataframe(train_data,\n",
        "                         directory = os.path.join(base_path, \"train_images\"),\n",
        "                         subset = \"validation\",\n",
        "                         x_col = \"image_id\",\n",
        "                         y_col = \"label\",\n",
        "                         target_size = (TARGET_SIZE, TARGET_SIZE),\n",
        "                         batch_size = BATCH_SIZE,\n",
        "                         class_mode = \"sparse\")\n",
        "'done'"
      ],
      "execution_count": null,
      "outputs": []
    },
    {
      "cell_type": "code",
      "metadata": {
        "id": "yZM0wRzefItY"
      },
      "source": [
        "# print images in training set\n",
        "print(\"images in training set: \", train_generator.n)\n",
        "\n",
        "# printing images in validation set\n",
        "print(\"images in validation set: \", validation_generator.n)"
      ],
      "execution_count": null,
      "outputs": []
    },
    {
      "cell_type": "code",
      "metadata": {
        "id": "FXm4Zsr1gA5_"
      },
      "source": [
        "# training set balance\n",
        "pd.value_counts(train_generator.classes, normalize=True)"
      ],
      "execution_count": null,
      "outputs": []
    },
    {
      "cell_type": "code",
      "metadata": {
        "id": "rWYBum7dhiRz"
      },
      "source": [
        "# validation set balance\n",
        "pd.value_counts(validation_generator.classes, normalize=True)"
      ],
      "execution_count": null,
      "outputs": []
    },
    {
      "cell_type": "code",
      "metadata": {
        "id": "YPJe7TTClKop"
      },
      "source": [
        "from keras.applications.vgg16 import VGG16\n",
        "\n",
        "# function to create model using transfer learning from VGG19 pre-trained model\n",
        "def create_model():\n",
        "    model = keras.Sequential()\n",
        "    model.add(VGG16(include_top = False, weights = 'imagenet',\n",
        "                             input_shape = (TARGET_SIZE, TARGET_SIZE, 3)))\n",
        "    model.add(layers.GlobalAveragePooling2D())\n",
        "    model.add(layers.Dense(5, activation = \"softmax\"))\n",
        "\n",
        "    # compile model with Adam, sparse_categorical_crossentropy loss, and accuracy metric\n",
        "    model.compile(optimizer = Adam(lr = 0.001),\n",
        "                  loss = \"sparse_categorical_crossentropy\",\n",
        "                  metrics = [\"acc\"])\n",
        "    return model"
      ],
      "execution_count": null,
      "outputs": []
    },
    {
      "cell_type": "code",
      "metadata": {
        "id": "7ixukzmYjXXl"
      },
      "source": [
        "import tensorflow as tf\n",
        "from tensorflow import keras\n",
        "from tensorflow.keras import layers\n",
        "\n",
        "# create baseline model\n",
        "baseline_model = create_model()\n",
        "baseline_model.summary()"
      ],
      "execution_count": null,
      "outputs": []
    },
    {
      "cell_type": "code",
      "metadata": {
        "colab": {
          "base_uri": "https://localhost:8080/"
        },
        "id": "1FAs1oMAlKGM",
        "outputId": "5a266b73-570f-4321-cac2-5fe47d731c72"
      },
      "source": [
        "# fit model and track history\n",
        "# tensorboard \n",
        "def tensorboard_callback(exp_name):\n",
        "  return tf.keras.callbacks.TensorBoard(log_dir=base_path + exp_name, profile_batch=0, histogram_freq=1)\n",
        "\n",
        "# fit\n",
        "history = baseline_model.fit_generator(\n",
        "    train_generator,\n",
        "    steps_per_epoch = STEPS_PER_EPOCH,\n",
        "    epochs = EPOCHS,\n",
        "    validation_data = validation_generator,\n",
        "    validation_steps = VALIDATION_STEPS,\n",
        "    verbose = 1, \n",
        "    callbacks=[tensorboard_callback('vgg_baseline_history')]\n",
        ")"
      ],
      "execution_count": null,
      "outputs": [
        {
          "output_type": "stream",
          "text": [
            "/usr/local/lib/python3.6/dist-packages/tensorflow/python/keras/engine/training.py:1844: UserWarning: `Model.fit_generator` is deprecated and will be removed in a future version. Please use `Model.fit`, which supports generators.\n",
            "  warnings.warn('`Model.fit_generator` is deprecated and '\n"
          ],
          "name": "stderr"
        },
        {
          "output_type": "stream",
          "text": [
            "Epoch 1/16\n",
            "267/267 [==============================] - 365s 1s/step - loss: 7.9841 - acc: 0.5849 - val_loss: 1.1620 - val_acc: 0.6165\n",
            "Epoch 2/16\n",
            "267/267 [==============================] - 338s 1s/step - loss: 1.1725 - acc: 0.6117 - val_loss: 1.1284 - val_acc: 0.6165\n",
            "Epoch 3/16\n",
            "267/267 [==============================] - 338s 1s/step - loss: 1.1440 - acc: 0.6114 - val_loss: 1.2000 - val_acc: 0.6172\n",
            "Epoch 4/16\n",
            "267/267 [==============================] - 336s 1s/step - loss: 1.0851 - acc: 0.6260 - val_loss: 1.0713 - val_acc: 0.6275\n",
            "Epoch 5/16\n",
            "267/267 [==============================] - 336s 1s/step - loss: 1.0287 - acc: 0.6344 - val_loss: 0.9830 - val_acc: 0.6459\n",
            "Epoch 6/16\n",
            " 73/267 [=======>......................] - ETA: 3:39 - loss: 0.9956 - acc: 0.6428"
          ],
          "name": "stdout"
        }
      ]
    },
    {
      "cell_type": "code",
      "metadata": {
        "colab": {
          "base_uri": "https://localhost:8080/",
          "height": 298
        },
        "id": "N01mGgrAwC6w",
        "outputId": "e2a35513-0ea2-4a9d-a605-3abfefc2be4d"
      },
      "source": [
        "# baseline model accuracy plot\n",
        "plt.plot(history.history['val_acc'], label=\"val. accuracy\")\n",
        "plt.plot(history.history['acc'],  label=\"train accuracy\")\n",
        "plt.title('Baseline VGG16 model accuracy (16 epochs)', fontweight='bold')\n",
        "plt.legend()\n",
        "plt.savefig(base_path + 'Baseline VGG16 model accuracy.jpg',bbox_inches='tight')\n",
        "plt.show()"
      ],
      "execution_count": null,
      "outputs": [
        {
          "output_type": "execute_result",
          "data": {
            "text/plain": [
              "<matplotlib.legend.Legend at 0x7efff9e6c240>"
            ]
          },
          "metadata": {
            "tags": []
          },
          "execution_count": 211
        },
        {
          "output_type": "display_data",
          "data": {
            "image/png": "[encoded data removed]",
            "text/plain": [
              "<Figure size 432x288 with 1 Axes>"
            ]
          },
          "metadata": {
            "tags": []
          }
        }
      ]
    },
    {
      "cell_type": "code",
      "metadata": {
        "id": "430Us9R0kUih"
      },
      "source": [
        "# function to save the Exponential Decay model just trained\n",
        "def save_model(model):\n",
        "  import os\n",
        "  model_name = 'vgg_baseline_history.h5'\n",
        "  save_dir = os.path.join(os.getcwd(), 'saved_models')\n",
        "  \n",
        "  # Save model and weights\n",
        "  if not os.path.isdir(save_dir):\n",
        "      os.makedirs(save_dir)\n",
        "  model_path = os.path.join(save_dir, model_name)\n",
        "  model.save(model_path)\n",
        "  print('Saved trained model at %s ' % model_path)"
      ],
      "execution_count": null,
      "outputs": []
    },
    {
      "cell_type": "code",
      "metadata": {
        "colab": {
          "base_uri": "https://localhost:8080/"
        },
        "id": "hOekRRovsEdX",
        "outputId": "4c41d128-8a03-477d-92f0-126b1dfc6283"
      },
      "source": [
        "# save the model\n",
        "save_model(baseline_model)"
      ],
      "execution_count": null,
      "outputs": [
        {
          "output_type": "stream",
          "text": [
            "Saved trained model at /content/saved_models/vgg_baseline_history.h5 \n"
          ],
          "name": "stdout"
        }
      ]
    },
    {
      "cell_type": "code",
      "metadata": {
        "id": "sSM9oEpF77JH"
      },
      "source": [
        "from keras.models import load_model\n",
        "new_model = load_model(base_path + 'vgg_baseline_history.h5')\n",
        "new_model.load_weights(base_path + 'vgg_baseline_history.h5')\n",
        "'done !'"
      ],
      "execution_count": null,
      "outputs": []
    },
    {
      "cell_type": "code",
      "metadata": {
        "id": "5aiC3-2jvXFG"
      },
      "source": [
        "# save history as dataframe\n",
        "baseline_history_df = pd.DataFrame(history.history)\n",
        "\n",
        "# save training history\n",
        "pickle.dump(history.history, open( 'vgg_baseline_history' + '.pickle', \"wb\"))"
      ],
      "execution_count": null,
      "outputs": []
    },
    {
      "cell_type": "code",
      "metadata": {
        "id": "20vQ5_nTx1ks"
      },
      "source": [
        "# load baseline training data\n",
        "baseline_history = open('vgg_baseline_history' + '.pickle', \"rb\")"
      ],
      "execution_count": null,
      "outputs": []
    },
    {
      "cell_type": "code",
      "metadata": {
        "colab": {
          "base_uri": "https://localhost:8080/"
        },
        "id": "xS_7dBV6yH0O",
        "outputId": "bda4835c-f7d6-46d7-e5a4-5dc91884497c"
      },
      "source": [
        "baseline_history_df"
      ],
      "execution_count": null,
      "outputs": [
        {
          "output_type": "execute_result",
          "data": {
            "text/html": [
              "<div>\n",
              "<style scoped>\n",
              "    .dataframe tbody tr th:only-of-type {\n",
              "        vertical-align: middle;\n",
              "    }\n",
              "\n",
              "    .dataframe tbody tr th {\n",
              "        vertical-align: top;\n",
              "    }\n",
              "\n",
              "    .dataframe thead th {\n",
              "        text-align: right;\n",
              "    }\n",
              "</style>\n",
              "<table border=\"1\" class=\"dataframe\">\n",
              "  <thead>\n",
              "    <tr style=\"text-align: right;\">\n",
              "      <th></th>\n",
              "      <th>loss</th>\n",
              "      <th>acc</th>\n",
              "      <th>val_loss</th>\n",
              "      <th>val_acc</th>\n",
              "    </tr>\n",
              "  </thead>\n",
              "  <tbody>\n",
              "    <tr>\n",
              "      <th>0</th>\n",
              "      <td>3.226770</td>\n",
              "      <td>0.601586</td>\n",
              "      <td>1.187788</td>\n",
              "      <td>0.616605</td>\n",
              "    </tr>\n",
              "    <tr>\n",
              "      <th>1</th>\n",
              "      <td>1.188730</td>\n",
              "      <td>0.612200</td>\n",
              "      <td>1.185784</td>\n",
              "      <td>0.598881</td>\n",
              "    </tr>\n",
              "    <tr>\n",
              "      <th>2</th>\n",
              "      <td>1.192252</td>\n",
              "      <td>0.606135</td>\n",
              "      <td>1.160239</td>\n",
              "      <td>0.608675</td>\n",
              "    </tr>\n",
              "    <tr>\n",
              "      <th>3</th>\n",
              "      <td>1.175472</td>\n",
              "      <td>0.613716</td>\n",
              "      <td>1.113206</td>\n",
              "      <td>0.628731</td>\n",
              "    </tr>\n",
              "    <tr>\n",
              "      <th>4</th>\n",
              "      <td>1.133352</td>\n",
              "      <td>0.616371</td>\n",
              "      <td>1.110631</td>\n",
              "      <td>0.607743</td>\n",
              "    </tr>\n",
              "    <tr>\n",
              "      <th>5</th>\n",
              "      <td>1.126858</td>\n",
              "      <td>0.613249</td>\n",
              "      <td>1.083461</td>\n",
              "      <td>0.611007</td>\n",
              "    </tr>\n",
              "    <tr>\n",
              "      <th>6</th>\n",
              "      <td>1.104435</td>\n",
              "      <td>0.616632</td>\n",
              "      <td>1.109970</td>\n",
              "      <td>0.608675</td>\n",
              "    </tr>\n",
              "    <tr>\n",
              "      <th>7</th>\n",
              "      <td>1.089113</td>\n",
              "      <td>0.617654</td>\n",
              "      <td>1.070283</td>\n",
              "      <td>0.611940</td>\n",
              "    </tr>\n",
              "    <tr>\n",
              "      <th>8</th>\n",
              "      <td>1.052005</td>\n",
              "      <td>0.626049</td>\n",
              "      <td>0.987471</td>\n",
              "      <td>0.625000</td>\n",
              "    </tr>\n",
              "    <tr>\n",
              "      <th>9</th>\n",
              "      <td>1.009983</td>\n",
              "      <td>0.635494</td>\n",
              "      <td>0.986506</td>\n",
              "      <td>0.631530</td>\n",
              "    </tr>\n",
              "    <tr>\n",
              "      <th>10</th>\n",
              "      <td>1.045530</td>\n",
              "      <td>0.633077</td>\n",
              "      <td>1.030161</td>\n",
              "      <td>0.631996</td>\n",
              "    </tr>\n",
              "    <tr>\n",
              "      <th>11</th>\n",
              "      <td>1.004804</td>\n",
              "      <td>0.638176</td>\n",
              "      <td>1.022217</td>\n",
              "      <td>0.628731</td>\n",
              "    </tr>\n",
              "    <tr>\n",
              "      <th>12</th>\n",
              "      <td>0.998059</td>\n",
              "      <td>0.634476</td>\n",
              "      <td>0.931592</td>\n",
              "      <td>0.646455</td>\n",
              "    </tr>\n",
              "    <tr>\n",
              "      <th>13</th>\n",
              "      <td>0.956236</td>\n",
              "      <td>0.651936</td>\n",
              "      <td>0.908982</td>\n",
              "      <td>0.656250</td>\n",
              "    </tr>\n",
              "    <tr>\n",
              "      <th>14</th>\n",
              "      <td>0.938961</td>\n",
              "      <td>0.656833</td>\n",
              "      <td>0.912641</td>\n",
              "      <td>0.664645</td>\n",
              "    </tr>\n",
              "    <tr>\n",
              "      <th>15</th>\n",
              "      <td>0.936959</td>\n",
              "      <td>0.653918</td>\n",
              "      <td>0.890278</td>\n",
              "      <td>0.663246</td>\n",
              "    </tr>\n",
              "  </tbody>\n",
              "</table>\n",
              "</div>"
            ],
            "text/plain": [
              "        loss       acc  val_loss   val_acc\n",
              "0   3.226770  0.601586  1.187788  0.616605\n",
              "1   1.188730  0.612200  1.185784  0.598881\n",
              "2   1.192252  0.606135  1.160239  0.608675\n",
              "3   1.175472  0.613716  1.113206  0.628731\n",
              "4   1.133352  0.616371  1.110631  0.607743\n",
              "5   1.126858  0.613249  1.083461  0.611007\n",
              "6   1.104435  0.616632  1.109970  0.608675\n",
              "7   1.089113  0.617654  1.070283  0.611940\n",
              "8   1.052005  0.626049  0.987471  0.625000\n",
              "9   1.009983  0.635494  0.986506  0.631530\n",
              "10  1.045530  0.633077  1.030161  0.631996\n",
              "11  1.004804  0.638176  1.022217  0.628731\n",
              "12  0.998059  0.634476  0.931592  0.646455\n",
              "13  0.956236  0.651936  0.908982  0.656250\n",
              "14  0.938961  0.656833  0.912641  0.664645\n",
              "15  0.936959  0.653918  0.890278  0.663246"
            ]
          },
          "metadata": {
            "tags": []
          },
          "execution_count": 230
        }
      ]
    }
  ]
}