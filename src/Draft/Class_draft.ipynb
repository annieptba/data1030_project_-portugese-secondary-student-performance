{
 "cells": [
  {
   "cell_type": "markdown",
   "metadata": {},
   "source": [
    "## CLASSIFICATION WITHout MIDTERM SCORES"
   ]
  },
  {
   "cell_type": "markdown",
   "metadata": {},
   "source": [
    "## Data loading and set up"
   ]
  },
  {
   "cell_type": "code",
   "execution_count": 1,
   "metadata": {},
   "outputs": [],
   "source": [
    "import pandas as pd\n",
    "import numpy as np\n",
    "import matplotlib\n",
    "import seaborn as sns \n",
    "from matplotlib import pylab as plt\n",
    "from sklearn.model_selection import train_test_split,KFold\n",
    "from sklearn.compose import ColumnTransformer\n",
    "from sklearn.pipeline import Pipeline\n",
    "from sklearn.preprocessing import StandardScaler, OneHotEncoder, OrdinalEncoder, MinMaxScaler, LabelEncoder\n",
    "from sklearn.model_selection import train_test_split\n",
    "from sklearn.model_selection import KFold\n",
    "from sklearn.model_selection import train_test_split\n",
    "from sklearn.preprocessing import StandardScaler\n",
    "from sklearn.linear_model import Lasso\n",
    "import pandas as pd\n",
    "import numpy as np\n",
    "from sklearn.linear_model import LinearRegression\n",
    "from sklearn.datasets import load_iris\n",
    "from sklearn.model_selection import train_test_split\n",
    "from sklearn.pipeline import Pipeline\n",
    "from pandas import DataFrame\n",
    "import pandas as pd\n",
    "import matplotlib.pyplot as plt\n",
    "from sklearn import datasets\n",
    "from sklearn.metrics import precision_score, recall_score, accuracy_score, fbeta_score\n",
    "from sklearn.datasets import make_regression\n",
    "import numpy as np\n",
    "import matplotlib.pyplot as plt\n",
    "from sklearn import neighbors\n",
    "from sklearn.datasets import make_moons\n",
    "import numpy as np\n",
    "from sklearn.ensemble import RandomForestClassifier\n",
    "from sklearn.preprocessing import StandardScaler\n",
    "from sklearn.neighbors import (NeighborhoodComponentsAnalysis,KNeighborsClassifier)\n",
    "from sklearn.datasets import load_iris\n",
    "from sklearn.model_selection import train_test_split\n",
    "from sklearn.pipeline import Pipeline\n",
    "from sklearn.datasets import make_moons\n",
    "import numpy as np\n",
    "import matplotlib.pyplot as plt\n",
    "import matplotlib\n",
    "from matplotlib.colors import ListedColormap\n",
    "from sklearn.ensemble import RandomForestClassifier\n",
    "from sklearn.preprocessing import StandardScaler\n",
    "from sklearn.linear_model import LogisticRegression\n",
    "from sklearn.svm import SVC\n",
    "from sklearn.metrics import accuracy_score\n",
    "from sklearn.model_selection import StratifiedKFold\n",
    "from sklearn.model_selection import train_test_split \n",
    "from sklearn.preprocessing import StandardScaler\n",
    "from sklearn.pipeline import make_pipeline\n",
    "from sklearn.model_selection import KFold\n",
    "from sklearn.model_selection import GridSearchCV\n",
    "from sklearn.metrics import make_scorer\n",
    "from sklearn.model_selection import ParameterGrid\n",
    "from sklearn.metrics import mean_squared_error\n",
    "from pandas import DataFrame\n",
    "import pandas as pd\n",
    "import numpy as np\n",
    "import matplotlib.pyplot as plt\n",
    "from sklearn import datasets\n",
    "from sklearn.linear_model import LassoCV\n",
    "from sklearn.linear_model import Lasso\n",
    "from sklearn.model_selection import KFold\n",
    "from sklearn.model_selection import GridSearchCV\n",
    "from sklearn.model_selection import train_test_split \n",
    "from  sklearn.linear_model import Ridge\n",
    "from sklearn.metrics import mean_squared_error\n",
    "from sklearn.preprocessing import StandardScaler\n",
    "from sklearn.datasets import make_moons\n",
    "from sklearn.linear_model import LogisticRegression\n",
    "from sklearn.metrics import precision_score, recall_score, accuracy_score, fbeta_score\n",
    "from sklearn.linear_model import ElasticNet\n",
    "from sklearn.datasets import make_regression\n",
    "from sklearn.ensemble import RandomForestRegressor\n",
    "from sklearn.metrics import confusion_matrix\n",
    "import numpy as np\n",
    "import matplotlib.pyplot as plt\n",
    "from sklearn import svm, datasets\n",
    "from sklearn.model_selection import train_test_split\n",
    "from sklearn.metrics import plot_confusion_matrix\n",
    "from sklearn.metrics import confusion_matrix"
   ]
  },
  {
   "cell_type": "code",
   "execution_count": 2,
   "metadata": {},
   "outputs": [],
   "source": [
    "#initiate path and load data\n",
    "path_to_data = \"/Users/anniephan/Desktop/Data_Science_Master/DATA_1030/data1030_project_-portugese-secondary-student-performance/data/student\"\n",
    "mat = pd.read_csv(path_to_data+'/student-mat.csv', sep=\";\")\n",
    "por = pd.read_csv(path_to_data+'/student-por.csv', sep=\";\")"
   ]
  },
  {
   "cell_type": "code",
   "execution_count": 3,
   "metadata": {},
   "outputs": [],
   "source": [
    "# merge datasets\n",
    "df = pd.concat([mat,por])"
   ]
  },
  {
   "cell_type": "code",
   "execution_count": 4,
   "metadata": {},
   "outputs": [
    {
     "name": "stdout",
     "output_type": "stream",
     "text": [
      "Index(['school', 'sex', 'age', 'address', 'family_size', 'parents_status',\n",
      "       'mother_education', 'father_education', 'mother_job', 'father_job',\n",
      "       'reason', 'guardian', 'commute_time', 'study_time', 'failures',\n",
      "       'school_support', 'family_support', 'paid_classes', 'activities',\n",
      "       'nursery', 'desire_higher_edu', 'internet', 'romantic',\n",
      "       'family_quality', 'free_time', 'go_out', 'weekday_alcohol_usage',\n",
      "       'weekend_alcohol_usage', 'health', 'absences', 'period1_score',\n",
      "       'period2_score', 'final_score'],\n",
      "      dtype='object')\n"
     ]
    }
   ],
   "source": [
    "# rename column labels\n",
    "df.columns = ['school','sex','age','address','family_size','parents_status','mother_education','father_education',\n",
    "           'mother_job','father_job','reason','guardian','commute_time','study_time','failures','school_support',\n",
    "          'family_support','paid_classes','activities','nursery','desire_higher_edu','internet','romantic','family_quality',\n",
    "          'free_time','go_out','weekday_alcohol_usage','weekend_alcohol_usage','health','absences','period1_score','period2_score','final_score']\n",
    "print(df.columns)"
   ]
  },
  {
   "cell_type": "code",
   "execution_count": 5,
   "metadata": {},
   "outputs": [
    {
     "data": {
      "text/html": [
       "<div>\n",
       "<style scoped>\n",
       "    .dataframe tbody tr th:only-of-type {\n",
       "        vertical-align: middle;\n",
       "    }\n",
       "\n",
       "    .dataframe tbody tr th {\n",
       "        vertical-align: top;\n",
       "    }\n",
       "\n",
       "    .dataframe thead th {\n",
       "        text-align: right;\n",
       "    }\n",
       "</style>\n",
       "<table border=\"1\" class=\"dataframe\">\n",
       "  <thead>\n",
       "    <tr style=\"text-align: right;\">\n",
       "      <th></th>\n",
       "      <th>school</th>\n",
       "      <th>sex</th>\n",
       "      <th>age</th>\n",
       "      <th>address</th>\n",
       "      <th>family_size</th>\n",
       "      <th>parents_status</th>\n",
       "      <th>mother_education</th>\n",
       "      <th>father_education</th>\n",
       "      <th>mother_job</th>\n",
       "      <th>father_job</th>\n",
       "      <th>...</th>\n",
       "      <th>free_time</th>\n",
       "      <th>go_out</th>\n",
       "      <th>weekday_alcohol_usage</th>\n",
       "      <th>weekend_alcohol_usage</th>\n",
       "      <th>health</th>\n",
       "      <th>absences</th>\n",
       "      <th>period1_score</th>\n",
       "      <th>period2_score</th>\n",
       "      <th>final_score</th>\n",
       "      <th>pass_fail</th>\n",
       "    </tr>\n",
       "  </thead>\n",
       "  <tbody>\n",
       "    <tr>\n",
       "      <th>0</th>\n",
       "      <td>GP</td>\n",
       "      <td>F</td>\n",
       "      <td>18</td>\n",
       "      <td>U</td>\n",
       "      <td>GT3</td>\n",
       "      <td>A</td>\n",
       "      <td>4</td>\n",
       "      <td>4</td>\n",
       "      <td>at_home</td>\n",
       "      <td>teacher</td>\n",
       "      <td>...</td>\n",
       "      <td>3</td>\n",
       "      <td>4</td>\n",
       "      <td>1</td>\n",
       "      <td>1</td>\n",
       "      <td>3</td>\n",
       "      <td>6</td>\n",
       "      <td>5</td>\n",
       "      <td>6</td>\n",
       "      <td>6</td>\n",
       "      <td>fail</td>\n",
       "    </tr>\n",
       "    <tr>\n",
       "      <th>1</th>\n",
       "      <td>GP</td>\n",
       "      <td>F</td>\n",
       "      <td>17</td>\n",
       "      <td>U</td>\n",
       "      <td>GT3</td>\n",
       "      <td>T</td>\n",
       "      <td>1</td>\n",
       "      <td>1</td>\n",
       "      <td>at_home</td>\n",
       "      <td>other</td>\n",
       "      <td>...</td>\n",
       "      <td>3</td>\n",
       "      <td>3</td>\n",
       "      <td>1</td>\n",
       "      <td>1</td>\n",
       "      <td>3</td>\n",
       "      <td>4</td>\n",
       "      <td>5</td>\n",
       "      <td>5</td>\n",
       "      <td>6</td>\n",
       "      <td>fail</td>\n",
       "    </tr>\n",
       "    <tr>\n",
       "      <th>2</th>\n",
       "      <td>GP</td>\n",
       "      <td>F</td>\n",
       "      <td>15</td>\n",
       "      <td>U</td>\n",
       "      <td>LE3</td>\n",
       "      <td>T</td>\n",
       "      <td>1</td>\n",
       "      <td>1</td>\n",
       "      <td>at_home</td>\n",
       "      <td>other</td>\n",
       "      <td>...</td>\n",
       "      <td>3</td>\n",
       "      <td>2</td>\n",
       "      <td>2</td>\n",
       "      <td>3</td>\n",
       "      <td>3</td>\n",
       "      <td>10</td>\n",
       "      <td>7</td>\n",
       "      <td>8</td>\n",
       "      <td>10</td>\n",
       "      <td>pass</td>\n",
       "    </tr>\n",
       "    <tr>\n",
       "      <th>3</th>\n",
       "      <td>GP</td>\n",
       "      <td>F</td>\n",
       "      <td>15</td>\n",
       "      <td>U</td>\n",
       "      <td>GT3</td>\n",
       "      <td>T</td>\n",
       "      <td>4</td>\n",
       "      <td>2</td>\n",
       "      <td>health</td>\n",
       "      <td>services</td>\n",
       "      <td>...</td>\n",
       "      <td>2</td>\n",
       "      <td>2</td>\n",
       "      <td>1</td>\n",
       "      <td>1</td>\n",
       "      <td>5</td>\n",
       "      <td>2</td>\n",
       "      <td>15</td>\n",
       "      <td>14</td>\n",
       "      <td>15</td>\n",
       "      <td>pass</td>\n",
       "    </tr>\n",
       "    <tr>\n",
       "      <th>4</th>\n",
       "      <td>GP</td>\n",
       "      <td>F</td>\n",
       "      <td>16</td>\n",
       "      <td>U</td>\n",
       "      <td>GT3</td>\n",
       "      <td>T</td>\n",
       "      <td>3</td>\n",
       "      <td>3</td>\n",
       "      <td>other</td>\n",
       "      <td>other</td>\n",
       "      <td>...</td>\n",
       "      <td>3</td>\n",
       "      <td>2</td>\n",
       "      <td>1</td>\n",
       "      <td>2</td>\n",
       "      <td>5</td>\n",
       "      <td>4</td>\n",
       "      <td>6</td>\n",
       "      <td>10</td>\n",
       "      <td>10</td>\n",
       "      <td>pass</td>\n",
       "    </tr>\n",
       "  </tbody>\n",
       "</table>\n",
       "<p>5 rows × 34 columns</p>\n",
       "</div>"
      ],
      "text/plain": [
       "  school sex  age address family_size parents_status  mother_education  \\\n",
       "0     GP   F   18       U         GT3              A                 4   \n",
       "1     GP   F   17       U         GT3              T                 1   \n",
       "2     GP   F   15       U         LE3              T                 1   \n",
       "3     GP   F   15       U         GT3              T                 4   \n",
       "4     GP   F   16       U         GT3              T                 3   \n",
       "\n",
       "   father_education mother_job father_job  ... free_time go_out  \\\n",
       "0                 4    at_home    teacher  ...         3      4   \n",
       "1                 1    at_home      other  ...         3      3   \n",
       "2                 1    at_home      other  ...         3      2   \n",
       "3                 2     health   services  ...         2      2   \n",
       "4                 3      other      other  ...         3      2   \n",
       "\n",
       "   weekday_alcohol_usage  weekend_alcohol_usage  health absences  \\\n",
       "0                      1                      1       3        6   \n",
       "1                      1                      1       3        4   \n",
       "2                      2                      3       3       10   \n",
       "3                      1                      1       5        2   \n",
       "4                      1                      2       5        4   \n",
       "\n",
       "  period1_score period2_score final_score pass_fail  \n",
       "0             5             6           6      fail  \n",
       "1             5             5           6      fail  \n",
       "2             7             8          10      pass  \n",
       "3            15            14          15      pass  \n",
       "4             6            10          10      pass  \n",
       "\n",
       "[5 rows x 34 columns]"
      ]
     },
     "execution_count": 5,
     "metadata": {},
     "output_type": "execute_result"
    }
   ],
   "source": [
    "# convert final_score to categorical variable # Good:15~20 Fair:10~14 Poor:0~9\n",
    "df['pass_fail'] = 'na'\n",
    "df.loc[(df.final_score >= 10), 'pass_fail'] = 'pass' \n",
    "df.loc[(df.final_score < 10), 'pass_fail'] = 'fail' \n",
    "df.head(5)"
   ]
  },
  {
   "cell_type": "code",
   "execution_count": null,
   "metadata": {},
   "outputs": [],
   "source": []
  },
  {
   "cell_type": "code",
   "execution_count": null,
   "metadata": {},
   "outputs": [],
   "source": []
  },
  {
   "cell_type": "markdown",
   "metadata": {},
   "source": [
    "# Data Preprocessing"
   ]
  },
  {
   "cell_type": "code",
   "execution_count": 6,
   "metadata": {},
   "outputs": [
    {
     "data": {
      "text/html": [
       "<div>\n",
       "<style scoped>\n",
       "    .dataframe tbody tr th:only-of-type {\n",
       "        vertical-align: middle;\n",
       "    }\n",
       "\n",
       "    .dataframe tbody tr th {\n",
       "        vertical-align: top;\n",
       "    }\n",
       "\n",
       "    .dataframe thead th {\n",
       "        text-align: right;\n",
       "    }\n",
       "</style>\n",
       "<table border=\"1\" class=\"dataframe\">\n",
       "  <thead>\n",
       "    <tr style=\"text-align: right;\">\n",
       "      <th></th>\n",
       "      <th>school</th>\n",
       "      <th>sex</th>\n",
       "      <th>age</th>\n",
       "      <th>address</th>\n",
       "      <th>family_size</th>\n",
       "      <th>parents_status</th>\n",
       "      <th>mother_education</th>\n",
       "      <th>father_education</th>\n",
       "      <th>mother_job</th>\n",
       "      <th>father_job</th>\n",
       "      <th>...</th>\n",
       "      <th>internet</th>\n",
       "      <th>romantic</th>\n",
       "      <th>family_quality</th>\n",
       "      <th>free_time</th>\n",
       "      <th>go_out</th>\n",
       "      <th>weekday_alcohol_usage</th>\n",
       "      <th>weekend_alcohol_usage</th>\n",
       "      <th>health</th>\n",
       "      <th>absences</th>\n",
       "      <th>pass_fail</th>\n",
       "    </tr>\n",
       "  </thead>\n",
       "  <tbody>\n",
       "    <tr>\n",
       "      <th>0</th>\n",
       "      <td>GP</td>\n",
       "      <td>F</td>\n",
       "      <td>18</td>\n",
       "      <td>U</td>\n",
       "      <td>GT3</td>\n",
       "      <td>A</td>\n",
       "      <td>4</td>\n",
       "      <td>4</td>\n",
       "      <td>at_home</td>\n",
       "      <td>teacher</td>\n",
       "      <td>...</td>\n",
       "      <td>no</td>\n",
       "      <td>no</td>\n",
       "      <td>4</td>\n",
       "      <td>3</td>\n",
       "      <td>4</td>\n",
       "      <td>1</td>\n",
       "      <td>1</td>\n",
       "      <td>3</td>\n",
       "      <td>6</td>\n",
       "      <td>fail</td>\n",
       "    </tr>\n",
       "    <tr>\n",
       "      <th>1</th>\n",
       "      <td>GP</td>\n",
       "      <td>F</td>\n",
       "      <td>17</td>\n",
       "      <td>U</td>\n",
       "      <td>GT3</td>\n",
       "      <td>T</td>\n",
       "      <td>1</td>\n",
       "      <td>1</td>\n",
       "      <td>at_home</td>\n",
       "      <td>other</td>\n",
       "      <td>...</td>\n",
       "      <td>yes</td>\n",
       "      <td>no</td>\n",
       "      <td>5</td>\n",
       "      <td>3</td>\n",
       "      <td>3</td>\n",
       "      <td>1</td>\n",
       "      <td>1</td>\n",
       "      <td>3</td>\n",
       "      <td>4</td>\n",
       "      <td>fail</td>\n",
       "    </tr>\n",
       "    <tr>\n",
       "      <th>2</th>\n",
       "      <td>GP</td>\n",
       "      <td>F</td>\n",
       "      <td>15</td>\n",
       "      <td>U</td>\n",
       "      <td>LE3</td>\n",
       "      <td>T</td>\n",
       "      <td>1</td>\n",
       "      <td>1</td>\n",
       "      <td>at_home</td>\n",
       "      <td>other</td>\n",
       "      <td>...</td>\n",
       "      <td>yes</td>\n",
       "      <td>no</td>\n",
       "      <td>4</td>\n",
       "      <td>3</td>\n",
       "      <td>2</td>\n",
       "      <td>2</td>\n",
       "      <td>3</td>\n",
       "      <td>3</td>\n",
       "      <td>10</td>\n",
       "      <td>pass</td>\n",
       "    </tr>\n",
       "    <tr>\n",
       "      <th>3</th>\n",
       "      <td>GP</td>\n",
       "      <td>F</td>\n",
       "      <td>15</td>\n",
       "      <td>U</td>\n",
       "      <td>GT3</td>\n",
       "      <td>T</td>\n",
       "      <td>4</td>\n",
       "      <td>2</td>\n",
       "      <td>health</td>\n",
       "      <td>services</td>\n",
       "      <td>...</td>\n",
       "      <td>yes</td>\n",
       "      <td>yes</td>\n",
       "      <td>3</td>\n",
       "      <td>2</td>\n",
       "      <td>2</td>\n",
       "      <td>1</td>\n",
       "      <td>1</td>\n",
       "      <td>5</td>\n",
       "      <td>2</td>\n",
       "      <td>pass</td>\n",
       "    </tr>\n",
       "    <tr>\n",
       "      <th>4</th>\n",
       "      <td>GP</td>\n",
       "      <td>F</td>\n",
       "      <td>16</td>\n",
       "      <td>U</td>\n",
       "      <td>GT3</td>\n",
       "      <td>T</td>\n",
       "      <td>3</td>\n",
       "      <td>3</td>\n",
       "      <td>other</td>\n",
       "      <td>other</td>\n",
       "      <td>...</td>\n",
       "      <td>no</td>\n",
       "      <td>no</td>\n",
       "      <td>4</td>\n",
       "      <td>3</td>\n",
       "      <td>2</td>\n",
       "      <td>1</td>\n",
       "      <td>2</td>\n",
       "      <td>5</td>\n",
       "      <td>4</td>\n",
       "      <td>pass</td>\n",
       "    </tr>\n",
       "  </tbody>\n",
       "</table>\n",
       "<p>5 rows × 31 columns</p>\n",
       "</div>"
      ],
      "text/plain": [
       "  school sex  age address family_size parents_status  mother_education  \\\n",
       "0     GP   F   18       U         GT3              A                 4   \n",
       "1     GP   F   17       U         GT3              T                 1   \n",
       "2     GP   F   15       U         LE3              T                 1   \n",
       "3     GP   F   15       U         GT3              T                 4   \n",
       "4     GP   F   16       U         GT3              T                 3   \n",
       "\n",
       "   father_education mother_job father_job  ... internet romantic  \\\n",
       "0                 4    at_home    teacher  ...       no       no   \n",
       "1                 1    at_home      other  ...      yes       no   \n",
       "2                 1    at_home      other  ...      yes       no   \n",
       "3                 2     health   services  ...      yes      yes   \n",
       "4                 3      other      other  ...       no       no   \n",
       "\n",
       "   family_quality  free_time  go_out weekday_alcohol_usage  \\\n",
       "0               4          3       4                     1   \n",
       "1               5          3       3                     1   \n",
       "2               4          3       2                     2   \n",
       "3               3          2       2                     1   \n",
       "4               4          3       2                     1   \n",
       "\n",
       "  weekend_alcohol_usage health absences pass_fail  \n",
       "0                     1      3        6      fail  \n",
       "1                     1      3        4      fail  \n",
       "2                     3      3       10      pass  \n",
       "3                     1      5        2      pass  \n",
       "4                     2      5        4      pass  \n",
       "\n",
       "[5 rows x 31 columns]"
      ]
     },
     "execution_count": 6,
     "metadata": {},
     "output_type": "execute_result"
    }
   ],
   "source": [
    "df_class = df.drop(['final_score'], axis = 1)\n",
    "df_class_no = df_class.drop(columns=['period1_score', 'period2_score'])\n",
    "df_class_no.head()"
   ]
  },
  {
   "cell_type": "code",
   "execution_count": 7,
   "metadata": {},
   "outputs": [],
   "source": [
    "# Separate feature matrix and target variable\n",
    "y_class_no = df_class_no['pass_fail'] #predict pas/fail status so make pass_fail the target variable\n",
    "X_class_no = df_class_no.loc[:, df_class_no.columns != 'pass_fail'] \n",
    "#print(\"target variable:\",y_reg_no)\n",
    "#print(\"feature matrix:\", X_reg_no.head())"
   ]
  },
  {
   "cell_type": "code",
   "execution_count": 8,
   "metadata": {},
   "outputs": [
    {
     "name": "stdout",
     "output_type": "stream",
     "text": [
      "balance: 0.7796934865900383\n"
     ]
    }
   ],
   "source": [
    "#check balances\n",
    "classes, counts = np.unique(y_class_no,return_counts=True)\n",
    "print('balance:',np.max(counts/len(y_class_no)))\n",
    "ftr_names= X_class_no.columns"
   ]
  },
  {
   "cell_type": "code",
   "execution_count": 10,
   "metadata": {},
   "outputs": [],
   "source": [
    "## Split data using Basic Split\n",
    "random_state = 42\n",
    "\n",
    "# first split to separate out the training set\n",
    "X_class_no_train, X_class_no_other, y_class_no_train, y_class_no_other = train_test_split(X_class_no,y_class_no,train_size = 0.6,random_state=random_state)\n",
    "#print('training set:',X_class_no_train.shape, X_class_no_train.head(3), y_class_no_train.shape, y_class_no_train.head(3)) \n",
    "#print(X_class_no_other.shape, y_class_no_other.shape) \n",
    "\n",
    "# second split to separate out the validation and test sets\n",
    "X_class_no_val, X_class_no_test, y_class_no_val, y_class_no_test = train_test_split(X_class_no_other,y_class_no_other,train_size = 0.5,random_state=random_state)\n",
    "#print('validation set:',X_class_no_val.shape, X_class_no_val.head(3),y_class_no_val.shape, y_class_no_val.head(3)) \n",
    "#print('test set:', X_class_no_test.shape, X_class_no_test.head(3), y_class_no_test.shape, y_class_no_test.head(3)) "
   ]
  },
  {
   "cell_type": "code",
   "execution_count": 11,
   "metadata": {},
   "outputs": [
    {
     "name": "stdout",
     "output_type": "stream",
     "text": [
      "(626, 30)\n",
      "(626, 53)\n"
     ]
    }
   ],
   "source": [
    "# collect which encoder to use on each feature\n",
    "# needs to be done manually\n",
    "onehot_ftrs = ['school','sex','age','address','family_size','parents_status', \n",
    "               'mother_job','father_job','reason','guardian','school_support',\n",
    "               'family_support','paid_classes','activities','nursery','desire_higher_edu','internet','romantic']\n",
    "minmax_ftrs = ['age','absences']\n",
    "\n",
    "# collect all the encoders\n",
    "preprocessor = ColumnTransformer(\n",
    "    transformers=[\n",
    "        ('onehot', OneHotEncoder(sparse=False,handle_unknown='ignore'), onehot_ftrs),\n",
    "        ('minmax', MinMaxScaler(), minmax_ftrs)])\n",
    "\n",
    "clf = Pipeline(steps=[('preprocessor', preprocessor)]) # for now we only preprocess \n",
    "                                                       # later on we will add other steps here\n",
    "\n",
    "X_class_no_train_prep = clf.fit_transform(X_class_no_train)\n",
    "X_class_no_val_prep = clf.transform(X_class_no_val)\n",
    "X_class_no_test_prep = clf.transform(X_class_no_test)\n",
    "\n",
    "print(X_class_no_train.shape)\n",
    "print(X_class_no_train_prep.shape)\n",
    "\n",
    "#apply label encoder to target variable \n",
    "le = LabelEncoder()\n",
    "y_class_no_train_prep = le.fit_transform(y_class_no_train)\n",
    "#print('Target variable for classifcation training prep set:', y_class_no_train.shape, y_class_no_train.head(3)) \n",
    "y_class_no_val_prep = le.transform(y_class_no_val)\n",
    "#print('Target variable for classifcation validation prep set:', y_class_no_val.shape, y_class_no_val.head(3)) \n",
    "y_class_no_test_prep = le.transform(y_class_no_test)\n",
    "#print('Target variable for classifcation validation prep set:', y_class_no_test.shape, y_class_no_test.head(3)) "
   ]
  },
  {
   "cell_type": "markdown",
   "metadata": {},
   "source": [
    "# Hyperparameter Tuning/ Cross-validation"
   ]
  },
  {
   "cell_type": "markdown",
   "metadata": {},
   "source": [
    "## Baseline accuracy"
   ]
  },
  {
   "cell_type": "code",
   "execution_count": 12,
   "metadata": {},
   "outputs": [
    {
     "data": {
      "text/plain": [
       "count     1044\n",
       "unique       2\n",
       "top       pass\n",
       "freq       814\n",
       "Name: pass_fail, dtype: object"
      ]
     },
     "execution_count": 12,
     "metadata": {},
     "output_type": "execute_result"
    }
   ],
   "source": [
    "df_class['pass_fail'].describe()"
   ]
  },
  {
   "cell_type": "code",
   "execution_count": 13,
   "metadata": {},
   "outputs": [
    {
     "data": {
      "text/plain": [
       "0.7796934865900383"
      ]
     },
     "execution_count": 13,
     "metadata": {},
     "output_type": "execute_result"
    }
   ],
   "source": [
    "814/len(df_class['pass_fail'])"
   ]
  },
  {
   "cell_type": "markdown",
   "metadata": {},
   "source": [
    "## Function"
   ]
  },
  {
   "cell_type": "code",
   "execution_count": 17,
   "metadata": {},
   "outputs": [],
   "source": [
    "mean_test_scores = []\n",
    "std_test_scores = []\n",
    "def MLpipe_KFold_Acc(X,y,preprocessor,ML_algo,param_grid):\n",
    "    '''\n",
    "    This function splits the data to other/test (80/20) and then applies KFold with 4 folds to other.\n",
    "    The RMSE is minimized in cross-validation.\n",
    "    '''\n",
    "    test_scores = np.zeros(10)\n",
    "    best_models = []\n",
    "    \n",
    "    \n",
    "    # loop through 10 random states (2 points)\n",
    "    for i in range(1,10):\n",
    "    \n",
    "        # split data to other/test 80/20, and the use KFold with 4 folds (2 points)\n",
    "        # first split to separate out the test set\n",
    "        X_other, X_test, y_other, y_test = train_test_split(X,y,test_size = 0.2,random_state=42*i)\n",
    "        #print(X_other.shape,y_other.shape)\n",
    "        #print('test set:',X_test.shape,y_test.shape)\n",
    "        \n",
    "        #label encoder\n",
    "        le = LabelEncoder()\n",
    "        y_other_prep = le.fit_transform(y_other)\n",
    "        y_test_prep = le.transform(y_test)\n",
    "\n",
    "        # do KFold split on other\n",
    "        kf = KFold(n_splits=4,shuffle=True,random_state=42*i)\n",
    "\n",
    "        # preprocess the data (1 point)\n",
    "        pipe = make_pipeline(preprocessor,ML_algo)\n",
    "        \n",
    "        # loop through the hyperparameter combinations or use GridSearchCV (2 points)\n",
    "        ##create grid search CV with the pipeline, parameter grid, and scoring metric\n",
    "        grid = GridSearchCV(pipe, param_grid=param_grid,scoring = make_scorer(accuracy_score, greater_is_better=True),\n",
    "                        cv=kf, return_train_score = True, n_jobs = -1)\n",
    "\n",
    "        # for each combination, calculate the train and validation scores using the evaluation metric\n",
    "        grid.fit(X_other, y_other_prep)\n",
    "        \n",
    "        #save results to a datafrmae\n",
    "        #results = pd.DataFrame(grid.cv_results_)\n",
    "        #print(results[['params', 'mean_test_score', 'mean_train_score']])\n",
    "\n",
    "        # find which hyperparameter combination gives the best validation score (1 point)\n",
    "        print(\"best model parameters:\", grid.best_params_)\n",
    "        print('validation score:',grid.best_score_)\n",
    "\n",
    "        # calculate the best model\n",
    "        best_models.append(grid)\n",
    "        \n",
    "        # calculate and save the test score\n",
    "        y_test_pred = best_models[-1].predict(X_test)\n",
    "        test_scores[i] = accuracy_score(y_test_prep,y_test_pred)\n",
    "        print('test score:', test_scores[i])\n",
    "        \n",
    "    return best_models, test_scores"
   ]
  },
  {
   "cell_type": "markdown",
   "metadata": {},
   "source": [
    "overfit is high train and low test, will do well on training\n",
    "underfit is low train and test score\n"
   ]
  },
  {
   "cell_type": "markdown",
   "metadata": {},
   "source": [
    "## Apply on models"
   ]
  },
  {
   "cell_type": "markdown",
   "metadata": {},
   "source": [
    "check the baseline, maximum, the proportion of the most popular class"
   ]
  },
  {
   "cell_type": "markdown",
   "metadata": {},
   "source": [
    "**Comments**\n",
    "Best model is elastic net alpha = 0.1 and l1_ratio = 0.1, test score = 51.44"
   ]
  },
  {
   "cell_type": "code",
   "execution_count": 18,
   "metadata": {},
   "outputs": [
    {
     "name": "stdout",
     "output_type": "stream",
     "text": [
      "best model parameters: {'randomforestclassifier__max_depth': 1, 'randomforestclassifier__max_features': 0.5}\n",
      "validation score: 0.796460940375414\n",
      "test score: 0.7129186602870813\n",
      "best model parameters: {'randomforestclassifier__max_depth': 1, 'randomforestclassifier__max_features': 0.5}\n",
      "validation score: 0.7880532296650717\n",
      "test score: 0.7464114832535885\n",
      "best model parameters: {'randomforestclassifier__max_depth': 1, 'randomforestclassifier__max_features': 0.5}\n",
      "validation score: 0.794011087596614\n",
      "test score: 0.722488038277512\n",
      "best model parameters: {'randomforestclassifier__max_depth': 10, 'randomforestclassifier__max_features': 0.5}\n",
      "validation score: 0.7676722948104527\n",
      "test score: 0.7894736842105263\n",
      "best model parameters: {'randomforestclassifier__max_depth': 3, 'randomforestclassifier__max_features': 0.5}\n",
      "validation score: 0.7892321494295178\n",
      "test score: 0.7703349282296651\n",
      "best model parameters: {'randomforestclassifier__max_depth': 3, 'randomforestclassifier__max_features': 0.75}\n",
      "validation score: 0.7904743283032758\n",
      "test score: 0.7320574162679426\n",
      "best model parameters: {'randomforestclassifier__max_depth': 1, 'randomforestclassifier__max_features': 0.5}\n",
      "validation score: 0.764101030548399\n",
      "test score: 0.8277511961722488\n",
      "best model parameters: {'randomforestclassifier__max_depth': 1, 'randomforestclassifier__max_features': 0.5}\n",
      "validation score: 0.7868398049319103\n",
      "test score: 0.7511961722488039\n",
      "best model parameters: {'randomforestclassifier__max_depth': 1, 'randomforestclassifier__max_features': 0.5}\n",
      "validation score: 0.7688454637467794\n",
      "test score: 0.8229665071770335\n",
      "[0.         0.71291866 0.74641148 0.72248804 0.78947368 0.77033493\n",
      " 0.73205742 0.8277512  0.75119617 0.82296651]\n",
      "mean test score: [0.6875598086124401]\n",
      "standard deviation test score: [0.23223295289560722]\n"
     ]
    }
   ],
   "source": [
    "#1. RF Classifier\n",
    "#ML ago\n",
    "ML_algo = RandomForestClassifier()\n",
    "#encoders and preprocessors\n",
    "preprocessor = ColumnTransformer(\n",
    "    transformers=[\n",
    "        ('onehot', OneHotEncoder(sparse=False,handle_unknown='ignore'), onehot_ftrs),\n",
    "        ('minmax', MinMaxScaler(), minmax_ftrs)])\n",
    "#parameters\n",
    "param_grid = {\n",
    "              'randomforestclassifier__max_depth': [1, 3, 10, 30], # the max_depth should be smaller or equal than the number of features roughly\n",
    "              'randomforestclassifier__max_features': [0.5,0.75,1.0]# linearly spaced between 0.5 and 1\n",
    "              }\n",
    "#calculation\n",
    "models, scores = MLpipe_KFold_Acc(X_class_no,y_class_no,preprocessor,ML_algo,param_grid)\n",
    "print(scores)\n",
    "\n",
    "\n",
    "#calculate mean and standard deviation of test scores\n",
    "mean_test_score = np.mean(scores)\n",
    "std_test_score = np.std(scores)\n",
    "\n",
    "#append to the list\n",
    "mean_test_scores.append(mean_test_score)\n",
    "std_test_scores.append(std_test_score)\n",
    "\n",
    "print(\"mean test score:\", mean_test_scores)\n",
    "print(\"standard deviation test score:\", std_test_scores)"
   ]
  },
  {
   "cell_type": "markdown",
   "metadata": {},
   "source": [
    "**Comments**\n",
    "Best model is random forest regressor \n",
    "best model parameters: {'randomforestclassifier__max_depth': 1, 'randomforestclassifier__max_features': 0.5}\n",
    "validation score: 0.5700278340080972\n",
    "test score: 0.6363636363636364"
   ]
  },
  {
   "cell_type": "code",
   "execution_count": 19,
   "metadata": {},
   "outputs": [],
   "source": [
    " #'poly', 'sigmoid' #'tol':[1e-3, 1e-4, 1e-5, 1e-6] # 'svc__kernel': ['rbf','linear']"
   ]
  },
  {
   "cell_type": "code",
   "execution_count": null,
   "metadata": {},
   "outputs": [
    {
     "name": "stdout",
     "output_type": "stream",
     "text": [
      "best model parameters: {'svc__C': 4.6415888336127775, 'svc__gamma': 0.046415888336127774}\n",
      "validation score: 0.7976283584836217\n",
      "test score: 0.7081339712918661\n",
      "best model parameters: {'svc__C': 0.01, 'svc__gamma': 0.01}\n",
      "validation score: 0.7880532296650717\n",
      "test score: 0.7464114832535885\n",
      "best model parameters: {'svc__C': 1.0, 'svc__gamma': 0.21544346900318834}\n",
      "validation score: 0.7999861980125138\n",
      "test score: 0.7368421052631579\n",
      "best model parameters: {'svc__C': 0.01, 'svc__gamma': 0.01}\n",
      "validation score: 0.7676952981229297\n",
      "test score: 0.8277511961722488\n",
      "best model parameters: {'svc__C': 1.0, 'svc__gamma': 0.21544346900318834}\n",
      "validation score: 0.7916187430990063\n",
      "test score: 0.7655502392344498\n",
      "best model parameters: {'svc__C': 1.0, 'svc__gamma': 0.21544346900318834}\n",
      "validation score: 0.7916474972396024\n",
      "test score: 0.7511961722488039\n"
     ]
    }
   ],
   "source": [
    "#2. SVC\n",
    "from sklearn.svm import SVC\n",
    "\n",
    "#ML ago\n",
    "ML_algo = SVC()\n",
    "#encoders and preprocessors\n",
    "preprocessor = ColumnTransformer(\n",
    "    transformers=[\n",
    "        ('onehot', OneHotEncoder(sparse=False,handle_unknown='ignore'), onehot_ftrs),\n",
    "        ('minmax', MinMaxScaler(), minmax_ftrs)])\n",
    "#parameters\n",
    "param_grid = {'svc__C': np.logspace(-2,4,num=10),'svc__gamma': np.logspace(-2,4,num=10)}\n",
    "             \n",
    "#calculation\n",
    "models, scores = MLpipe_KFold_Acc(X_class_no,y_class_no,preprocessor,ML_algo,param_grid)\n",
    "print(scores)\n",
    "\n",
    "\n",
    "#calculate mean and standard deviation of test scores\n",
    "mean_test_score = np.mean(scores)\n",
    "std_test_score = np.std(scores)\n",
    "\n",
    "#append to the list\n",
    "mean_test_scores.append(mean_test_score)\n",
    "std_test_scores.append(std_test_score)\n",
    "\n",
    "print(\"mean test score:\", mean_test_scores)\n",
    "print(\"standard deviation test score:\", std_test_scores)\n"
   ]
  },
  {
   "cell_type": "markdown",
   "metadata": {},
   "source": [
    "**Comments**\n",
    "Best model is SVC\n",
    "test score: 0.5980861244019139\n",
    "best model parameters: {'svc__C': 4.6415888336127775, 'svc__gamma': 2154.4346900318824}\n",
    "validation score: 0.5880049227088702\n",
    "test score: 0.6411483253588517"
   ]
  },
  {
   "cell_type": "code",
   "execution_count": null,
   "metadata": {},
   "outputs": [],
   "source": [
    "#3. KNN Classifier\n",
    "from sklearn.neighbors import KNeighborsClassifier\n",
    "#ML ago\n",
    "ML_algo = KNeighborsClassifier()\n",
    "#encoders and preprocessors\n",
    "preprocessor = ColumnTransformer(\n",
    "    transformers=[\n",
    "        ('onehot', OneHotEncoder(sparse=False,handle_unknown='ignore'), onehot_ftrs),\n",
    "        ('minmax', MinMaxScaler(), minmax_ftrs)])\n",
    "#parameters\n",
    "param_grid = {'kneighborsclassifier__n_neighbors': np.arange(1,50,4), 'kneighborsclassifier__weights': ['uniform', 'distance']}\n",
    "#calculation\n",
    "models, scores = MLpipe_KFold_Acc(X_class_no,y_class_no,preprocessor,ML_algo,param_grid)\n",
    "print(scores)\n",
    "\n",
    "#calculate mean and standard deviation of test scores\n",
    "mean_test_score = np.mean(scores)\n",
    "std_test_score = np.std(scores)\n",
    "\n",
    "#append to the list\n",
    "mean_test_scores.append(mean_test_score)\n",
    "std_test_scores.append(std_test_score)\n",
    "\n",
    "print(\"mean test score:\", mean_test_scores)\n",
    "print(\"standard deviation test score:\", std_test_scores)"
   ]
  },
  {
   "cell_type": "markdown",
   "metadata": {},
   "source": [
    "**Comments**\n",
    "Best model is KNN:\n",
    "best model parameters: {'kneighborsclassifier__n_neighbors': 45, 'kneighborsclassifier__weights': 'uniform'}\n",
    "validation score: 0.5724546834744203\n",
    "test score: 0.6267942583732058"
   ]
  },
  {
   "cell_type": "code",
   "execution_count": 16,
   "metadata": {},
   "outputs": [
    {
     "name": "stdout",
     "output_type": "stream",
     "text": [
      "best model parameters: {'logisticregression__C': 0.01, 'logisticregression__penalty': 'l2'}\n",
      "validation score: 0.796460940375414\n",
      "test score: 0.7129186602870813\n",
      "best model parameters: {'logisticregression__C': 0.0372759372031494, 'logisticregression__penalty': 'l2'}\n",
      "validation score: 0.7892551527419949\n",
      "test score: 0.7464114832535885\n",
      "best model parameters: {'logisticregression__C': 0.01, 'logisticregression__penalty': 'l2'}\n",
      "validation score: 0.794011087596614\n",
      "test score: 0.722488038277512\n",
      "best model parameters: {'logisticregression__C': 0.01, 'logisticregression__penalty': 'l2'}\n",
      "validation score: 0.7676952981229297\n",
      "test score: 0.8277511961722488\n"
     ]
    },
    {
     "name": "stderr",
     "output_type": "stream",
     "text": [
      "/Users/anniephan/opt/anaconda3/lib/python3.8/site-packages/sklearn/linear_model/_logistic.py:762: ConvergenceWarning: lbfgs failed to converge (status=1):\n",
      "STOP: TOTAL NO. of ITERATIONS REACHED LIMIT.\n",
      "\n",
      "Increase the number of iterations (max_iter) or scale the data as shown in:\n",
      "    https://scikit-learn.org/stable/modules/preprocessing.html\n",
      "Please also refer to the documentation for alternative solver options:\n",
      "    https://scikit-learn.org/stable/modules/linear_model.html#logistic-regression\n",
      "  n_iter_i = _check_optimize_result(\n"
     ]
    },
    {
     "name": "stdout",
     "output_type": "stream",
     "text": [
      "best model parameters: {'logisticregression__C': 26.826957952797247, 'logisticregression__penalty': 'l2'}\n",
      "validation score: 0.7844589620905411\n",
      "test score: 0.7751196172248804\n",
      "best model parameters: {'logisticregression__C': 0.01, 'logisticregression__penalty': 'l2'}\n",
      "validation score: 0.7844647129186603\n",
      "test score: 0.7607655502392344\n",
      "best model parameters: {'logisticregression__C': 0.01, 'logisticregression__penalty': 'l2'}\n",
      "validation score: 0.7677067997791682\n",
      "test score: 0.8277511961722488\n",
      "best model parameters: {'logisticregression__C': 0.01, 'logisticregression__penalty': 'l2'}\n",
      "validation score: 0.7868398049319103\n",
      "test score: 0.7511961722488039\n",
      "best model parameters: {'logisticregression__C': 0.01, 'logisticregression__penalty': 'l2'}\n",
      "validation score: 0.7688454637467794\n",
      "test score: 0.8229665071770335\n",
      "[0.         0.71291866 0.74641148 0.72248804 0.8277512  0.77511962\n",
      " 0.76076555 0.8277512  0.75119617 0.82296651]\n",
      "mean test score: [0.6947368421052632, 0.6947368421052632]\n",
      "standard deviation test score: [0.23500373960678825, 0.23500373960678825]\n"
     ]
    }
   ],
   "source": [
    "#4.logreg\n",
    "from sklearn.linear_model import LogisticRegression\n",
    "#ML ago\n",
    "ML_algo = LogisticRegression()\n",
    "#encoders and preprocessors\n",
    "preprocessor = ColumnTransformer(\n",
    "    transformers=[\n",
    "        ('onehot', OneHotEncoder(sparse=False,handle_unknown='ignore'), onehot_ftrs),\n",
    "        ('minmax', MinMaxScaler(), minmax_ftrs)])\n",
    "#parameters\n",
    "param_grid = {\"logisticregression__C\":np.logspace(-2,2, num=8), \"logisticregression__penalty\":[\"l1\",\"l2\"]}\n",
    "#calculation\n",
    "models, scores = MLpipe_KFold_Acc(X_class_no,y_class_no,preprocessor,ML_algo,param_grid)\n",
    "print(scores)\n",
    "\n",
    "#calculate mean and standard deviation of test scores\n",
    "mean_test_score = np.mean(scores)\n",
    "std_test_score = np.std(scores)\n",
    "\n",
    "#append to the list\n",
    "mean_test_scores.append(mean_test_score)\n",
    "std_test_scores.append(std_test_score)\n",
    "\n",
    "print(\"mean test score:\", mean_test_scores)\n",
    "print(\"standard deviation test score:\", std_test_scores)"
   ]
  },
  {
   "cell_type": "markdown",
   "metadata": {},
   "source": [
    "best Logsitic Regression model is \n",
    "best model parameters: {'logisticregression__C': 0.001, 'logisticregression__penalty': 'l2'}\n",
    "validation score: 0.796460940375414\n",
    "test score: 0.7129186602870813"
   ]
  },
  {
   "cell_type": "code",
   "execution_count": 20,
   "metadata": {},
   "outputs": [],
   "source": [
    "ML_models = ['RF Classifier', 'SVC', 'KNN-Classification', 'Logistic Regression']"
   ]
  },
  {
   "cell_type": "code",
   "execution_count": 21,
   "metadata": {},
   "outputs": [
    {
     "data": {
      "text/plain": [
       "Text(0, 0.5, \" mean and standard deviation of each algo's best models\")"
      ]
     },
     "execution_count": 21,
     "metadata": {},
     "output_type": "execute_result"
    },
    {
     "data": {
      "image/png": "[encoded data removed]",
      "text/plain": [
       "<Figure size 432x288 with 1 Axes>"
      ]
     },
     "metadata": {
      "needs_background": "light"
     },
     "output_type": "display_data"
    }
   ],
   "source": [
    "plt.errorbar(ML_models ,mean_test_scores, yerr = std_test_scores, fmt=\"o\")\n",
    "plt.xlabel(\"ML Models\")\n",
    "plt.ylabel(\" mean and standard deviation of each algo's best models\")"
   ]
  },
  {
   "cell_type": "markdown",
   "metadata": {},
   "source": [
    "Logistic regression"
   ]
  },
  {
   "cell_type": "markdown",
   "metadata": {},
   "source": [
    "do analysis such as confusion matrix, feature importance is just a way to analyze model to see which features your model values the most, which contributes the mos tto prediction"
   ]
  },
  {
   "cell_type": "markdown",
   "metadata": {},
   "source": [
    "# Confusion Matrix"
   ]
  },
  {
   "cell_type": "code",
   "execution_count": 59,
   "metadata": {},
   "outputs": [
    {
     "name": "stdout",
     "output_type": "stream",
     "text": [
      "[0 1 1 1 1 1 0 1 1 0 1 1 1 1 1 1 1 1 1 1 1 1 1 0 1 1 1 0 1 0 1 1 0 1 1 1 1\n",
      " 0 1 0 1 1 1 1 1 0 1 1 0 1 1 1 1 1 1 1 0 1 1 1 1 1 1 1 1 0 1 1 1 1 1 1 1 1\n",
      " 0 0 1 1 1 1 1 1 1 1 1 1 1 0 1 0 1 1 1 1 1 1 1 1 1 0 1 1 1 1 1 1 1 1 1 1 1\n",
      " 1 0 1 0 1 1 1 1 1 0 1 1 0 1 1 1 1 1 1 1 1 1 0 0 1 1 1 1 1 1 0 0 1 1 1 1 1\n",
      " 0 1 0 0 1 1 1 0 1 1 1 1 1 1 0 0 1 0 0 0 1 1 1 1 1 1 1 1 1 1 0 1 1 1 0 1 0\n",
      " 1 1 1 1 1 1 1 0 1 0 0 0 1 1 0 1 1 1 0 0 0 0 1 1]\n",
      "[1 1 1 1 1 1 1 1 1 1 1 1 1 1 1 1 1 1 1 1 1 1 1 1 1 1 1 1 1 1 1 1 1 1 1 1 1\n",
      " 1 1 1 1 1 1 1 1 1 1 1 1 1 1 1 1 1 1 1 1 1 1 1 1 1 1 1 1 1 1 1 1 1 1 1 1 1\n",
      " 1 1 1 1 1 1 1 1 1 1 1 1 1 1 1 1 1 1 1 1 1 1 1 1 1 1 1 1 1 1 1 1 1 1 1 1 1\n",
      " 1 1 1 1 1 1 1 1 1 1 1 1 1 1 1 1 1 1 1 1 1 1 1 1 1 1 1 1 1 1 1 1 1 1 1 1 1\n",
      " 1 1 1 1 1 1 1 1 1 1 1 1 1 1 1 1 1 1 1 1 1 1 1 1 1 1 1 1 1 1 1 1 1 1 1 1 1\n",
      " 1 1 1 1 1 1 1 1 1 1 1 1 1 1 1 1 1 1 1 1 1 1 1 1]\n",
      "[[  0  47]\n",
      " [  0 162]]\n"
     ]
    }
   ],
   "source": [
    "import numpy as np\n",
    "y_true = y_class_no_test_prep\n",
    "logreg = LogisticRegression(penalty='l2', C = 0.001)\n",
    "logreg.fit(X_class_no_train_prep, y_class_no_train_prep)\n",
    "pred_prob_class1 = logreg.predict_proba(X_class_no_test_prep)[:, 1]\n",
    "p_crit =  0.5\n",
    "\n",
    "# If predicted probability is < p_crit (by default 0.5), predicted class is 0, otherwise it is 1.\n",
    "y_pred = np.zeros(len(pred_prob_class1),dtype=int)\n",
    "y_pred[pred_prob_class1 < p_crit] = 0\n",
    "y_pred[pred_prob_class1 >= p_crit] = 1\n",
    "\n",
    "print(y_true)\n",
    "print(y_pred) # the predicted classification labels\n",
    "print(confusion_matrix(y_true,y_pred))"
   ]
  },
  {
   "cell_type": "code",
   "execution_count": 60,
   "metadata": {},
   "outputs": [],
   "source": [
    "# visualize the confusion matrix\n",
    "import numpy as np\n",
    "import matplotlib.pyplot as plt\n",
    "from sklearn.utils.multiclass import unique_labels\n",
    "\n",
    "def plot_confusion_matrix(y_true, y_pred, classes,\n",
    "                          normalize=False,\n",
    "                          title=None,\n",
    "                          cmap=plt.cm.Blues):\n",
    "    \"\"\"\n",
    "    This function prints and plots the confusion matrix.\n",
    "    Normalization can be applied by setting `normalize=True`.\n",
    "    \"\"\"\n",
    "    if not title:\n",
    "        if normalize:\n",
    "            title = 'Normalized confusion matrix'\n",
    "        else:\n",
    "            title = 'Confusion matrix, without normalization'\n",
    "\n",
    "    # Compute confusion matrix\n",
    "    cm = confusion_matrix(y_true, y_pred)\n",
    "    # Only use the labels that appear in the data\n",
    "    classes = np.array(classes)\n",
    "    classes = classes[unique_labels(y_true, y_pred)]\n",
    "    if normalize:\n",
    "        cm = cm.astype('float') / cm.sum(axis=1)[:, np.newaxis]\n",
    "        \n",
    "    fig, ax = plt.subplots()\n",
    "    im = ax.imshow(cm, interpolation='nearest', cmap=cmap)\n",
    "    ax.figure.colorbar(im, ax=ax)\n",
    "    # We want to show all ticks...\n",
    "    ax.set(xticks=np.arange(cm.shape[1]),\n",
    "           yticks=np.arange(cm.shape[0]),\n",
    "           # ... and label them with the respective list entries\n",
    "           xticklabels=classes, yticklabels=classes,\n",
    "           title=title,\n",
    "           ylabel='True label',\n",
    "           xlabel='Predicted label')\n",
    "\n",
    "    # Rotate the tick labels and set their alignment.\n",
    "    plt.setp(ax.get_xticklabels(), rotation=45, ha=\"right\",\n",
    "             rotation_mode=\"anchor\")\n",
    "\n",
    "    # Loop over data dimensions and create text annotations.\n",
    "    fmt = '.2f' if normalize else 'd'\n",
    "    thresh = cm.max() / 2.\n",
    "    for i in range(cm.shape[0]):\n",
    "        for j in range(cm.shape[1]):\n",
    "            ax.text(j, i, format(cm[i, j], fmt),\n",
    "                    ha=\"center\", va=\"center\",\n",
    "                    color=\"white\" if cm[i, j] > thresh else \"black\")\n",
    "    fig.tight_layout()\n",
    "    return ax"
   ]
  },
  {
   "cell_type": "code",
   "execution_count": 61,
   "metadata": {},
   "outputs": [
    {
     "data": {
      "image/png": "[encoded data removed]",
      "text/plain": [
       "<Figure size 432x288 with 2 Axes>"
      ]
     },
     "metadata": {
      "needs_background": "light"
     },
     "output_type": "display_data"
    }
   ],
   "source": [
    "plot_confusion_matrix(y_true,y_pred,classes=['class 0','class 1'])\n",
    "plt.show()"
   ]
  },
  {
   "cell_type": "markdown",
   "metadata": {},
   "source": [
    "# Feature selection"
   ]
  },
  {
   "cell_type": "code",
   "execution_count": null,
   "metadata": {},
   "outputs": [],
   "source": []
  },
  {
   "cell_type": "markdown",
   "metadata": {},
   "source": [
    "# Feature importance"
   ]
  },
  {
   "cell_type": "code",
   "execution_count": null,
   "metadata": {},
   "outputs": [],
   "source": []
  }
 ],
 "metadata": {
  "kernelspec": {
   "display_name": "Python 3",
   "language": "python",
   "name": "python3"
  },
  "language_info": {
   "codemirror_mode": {
    "name": "ipython",
    "version": 3
   },
   "file_extension": ".py",
   "mimetype": "text/x-python",
   "name": "python",
   "nbconvert_exporter": "python",
   "pygments_lexer": "ipython3",
   "version": "3.8.3"
  }
 },
 "nbformat": 4,
 "nbformat_minor": 4
}
