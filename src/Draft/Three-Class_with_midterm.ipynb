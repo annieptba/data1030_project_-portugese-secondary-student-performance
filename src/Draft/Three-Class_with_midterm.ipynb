{
 "cells": [
  {
   "cell_type": "markdown",
   "metadata": {},
   "source": [
    "## CLASSIFICATION WITH MIDTERM SCORES"
   ]
  },
  {
   "cell_type": "markdown",
   "metadata": {},
   "source": [
    "## Data loading and set up"
   ]
  },
  {
   "cell_type": "code",
   "execution_count": 49,
   "metadata": {},
   "outputs": [],
   "source": [
    "import pandas as pd\n",
    "import numpy as np\n",
    "import matplotlib\n",
    "import seaborn as sns \n",
    "from matplotlib import pylab as plt\n",
    "from sklearn.model_selection import train_test_split,KFold\n",
    "from sklearn.compose import ColumnTransformer\n",
    "from sklearn.pipeline import Pipeline\n",
    "from sklearn.preprocessing import StandardScaler, OneHotEncoder, OrdinalEncoder, MinMaxScaler, LabelEncoder\n",
    "from sklearn.model_selection import train_test_split\n",
    "from sklearn.model_selection import KFold\n",
    "from sklearn.model_selection import train_test_split\n",
    "from sklearn.preprocessing import StandardScaler\n",
    "from sklearn.linear_model import Lasso\n",
    "import pandas as pd\n",
    "import numpy as np\n",
    "from sklearn.linear_model import LinearRegression\n",
    "from sklearn.datasets import load_iris\n",
    "from sklearn.model_selection import train_test_split\n",
    "from sklearn.pipeline import Pipeline\n",
    "from pandas import DataFrame\n",
    "import pandas as pd\n",
    "import matplotlib.pyplot as plt\n",
    "from sklearn import datasets\n",
    "from sklearn.metrics import precision_score, recall_score, accuracy_score, fbeta_score\n",
    "from sklearn.datasets import make_regression\n",
    "import numpy as np\n",
    "import matplotlib.pyplot as plt\n",
    "from sklearn import neighbors\n",
    "from sklearn.datasets import make_moons\n",
    "import numpy as np\n",
    "from sklearn.ensemble import RandomForestClassifier\n",
    "from sklearn.preprocessing import StandardScaler\n",
    "from sklearn.neighbors import (NeighborhoodComponentsAnalysis,KNeighborsClassifier)\n",
    "from sklearn.datasets import load_iris\n",
    "from sklearn.model_selection import train_test_split\n",
    "from sklearn.pipeline import Pipeline\n",
    "from sklearn.datasets import make_moons\n",
    "import numpy as np\n",
    "import matplotlib.pyplot as plt\n",
    "import matplotlib\n",
    "from matplotlib.colors import ListedColormap\n",
    "from sklearn.ensemble import RandomForestClassifier\n",
    "from sklearn.preprocessing import StandardScaler\n",
    "from sklearn.linear_model import LogisticRegression\n",
    "from sklearn.svm import SVC\n",
    "from sklearn.metrics import accuracy_score\n",
    "from sklearn.model_selection import StratifiedKFold\n",
    "from sklearn.model_selection import train_test_split \n",
    "from sklearn.preprocessing import StandardScaler\n",
    "from sklearn.pipeline import make_pipeline\n",
    "from sklearn.model_selection import KFold\n",
    "from sklearn.model_selection import GridSearchCV\n",
    "from sklearn.metrics import make_scorer\n",
    "from sklearn.model_selection import ParameterGrid\n",
    "from sklearn.metrics import mean_squared_error\n",
    "from pandas import DataFrame\n",
    "import pandas as pd\n",
    "import numpy as np\n",
    "import matplotlib.pyplot as plt\n",
    "from sklearn import datasets\n",
    "from sklearn.linear_model import LassoCV\n",
    "from sklearn.linear_model import Lasso\n",
    "from sklearn.model_selection import KFold\n",
    "from sklearn.model_selection import GridSearchCV\n",
    "from sklearn.model_selection import train_test_split \n",
    "from  sklearn.linear_model import Ridge\n",
    "from sklearn.metrics import mean_squared_error\n",
    "from sklearn.preprocessing import StandardScaler\n",
    "from sklearn.datasets import make_moons\n",
    "from sklearn.linear_model import LogisticRegression\n",
    "from sklearn.metrics import precision_score, recall_score, accuracy_score, fbeta_score\n",
    "from sklearn.linear_model import ElasticNet\n",
    "from sklearn.datasets import make_regression\n",
    "from sklearn.ensemble import RandomForestRegressor"
   ]
  },
  {
   "cell_type": "code",
   "execution_count": 50,
   "metadata": {},
   "outputs": [],
   "source": [
    "#initiate path and load data\n",
    "path_to_data = \"/Users/anniephan/Desktop/Data_Science_Master/DATA_1030/data1030_project_-portugese-secondary-student-performance/data/student\"\n",
    "mat = pd.read_csv(path_to_data+'/student-mat.csv', sep=\";\")\n",
    "por = pd.read_csv(path_to_data+'/student-por.csv', sep=\";\")"
   ]
  },
  {
   "cell_type": "code",
   "execution_count": 51,
   "metadata": {},
   "outputs": [],
   "source": [
    "# merge datasets\n",
    "df = pd.concat([mat,por])"
   ]
  },
  {
   "cell_type": "code",
   "execution_count": 52,
   "metadata": {},
   "outputs": [
    {
     "name": "stdout",
     "output_type": "stream",
     "text": [
      "Index(['school', 'sex', 'age', 'address', 'family_size', 'parents_status',\n",
      "       'mother_education', 'father_education', 'mother_job', 'father_job',\n",
      "       'reason', 'guardian', 'commute_time', 'study_time', 'failures',\n",
      "       'school_support', 'family_support', 'paid_classes', 'activities',\n",
      "       'nursery', 'desire_higher_edu', 'internet', 'romantic',\n",
      "       'family_quality', 'free_time', 'go_out', 'weekday_alcohol_usage',\n",
      "       'weekend_alcohol_usage', 'health', 'absences', 'period1_score',\n",
      "       'period2_score', 'final_score'],\n",
      "      dtype='object')\n"
     ]
    }
   ],
   "source": [
    "# rename column labels\n",
    "df.columns = ['school','sex','age','address','family_size','parents_status','mother_education','father_education',\n",
    "           'mother_job','father_job','reason','guardian','commute_time','study_time','failures','school_support',\n",
    "          'family_support','paid_classes','activities','nursery','desire_higher_edu','internet','romantic','family_quality',\n",
    "          'free_time','go_out','weekday_alcohol_usage','weekend_alcohol_usage','health','absences','period1_score','period2_score','final_score']\n",
    "print(df.columns)"
   ]
  },
  {
   "cell_type": "code",
   "execution_count": 53,
   "metadata": {},
   "outputs": [
    {
     "data": {
      "text/html": [
       "<div>\n",
       "<style scoped>\n",
       "    .dataframe tbody tr th:only-of-type {\n",
       "        vertical-align: middle;\n",
       "    }\n",
       "\n",
       "    .dataframe tbody tr th {\n",
       "        vertical-align: top;\n",
       "    }\n",
       "\n",
       "    .dataframe thead th {\n",
       "        text-align: right;\n",
       "    }\n",
       "</style>\n",
       "<table border=\"1\" class=\"dataframe\">\n",
       "  <thead>\n",
       "    <tr style=\"text-align: right;\">\n",
       "      <th></th>\n",
       "      <th>school</th>\n",
       "      <th>sex</th>\n",
       "      <th>age</th>\n",
       "      <th>address</th>\n",
       "      <th>family_size</th>\n",
       "      <th>parents_status</th>\n",
       "      <th>mother_education</th>\n",
       "      <th>father_education</th>\n",
       "      <th>mother_job</th>\n",
       "      <th>father_job</th>\n",
       "      <th>...</th>\n",
       "      <th>free_time</th>\n",
       "      <th>go_out</th>\n",
       "      <th>weekday_alcohol_usage</th>\n",
       "      <th>weekend_alcohol_usage</th>\n",
       "      <th>health</th>\n",
       "      <th>absences</th>\n",
       "      <th>period1_score</th>\n",
       "      <th>period2_score</th>\n",
       "      <th>final_score</th>\n",
       "      <th>final_grade</th>\n",
       "    </tr>\n",
       "  </thead>\n",
       "  <tbody>\n",
       "    <tr>\n",
       "      <th>0</th>\n",
       "      <td>GP</td>\n",
       "      <td>F</td>\n",
       "      <td>18</td>\n",
       "      <td>U</td>\n",
       "      <td>GT3</td>\n",
       "      <td>A</td>\n",
       "      <td>4</td>\n",
       "      <td>4</td>\n",
       "      <td>at_home</td>\n",
       "      <td>teacher</td>\n",
       "      <td>...</td>\n",
       "      <td>3</td>\n",
       "      <td>4</td>\n",
       "      <td>1</td>\n",
       "      <td>1</td>\n",
       "      <td>3</td>\n",
       "      <td>6</td>\n",
       "      <td>5</td>\n",
       "      <td>6</td>\n",
       "      <td>6</td>\n",
       "      <td>poor</td>\n",
       "    </tr>\n",
       "    <tr>\n",
       "      <th>1</th>\n",
       "      <td>GP</td>\n",
       "      <td>F</td>\n",
       "      <td>17</td>\n",
       "      <td>U</td>\n",
       "      <td>GT3</td>\n",
       "      <td>T</td>\n",
       "      <td>1</td>\n",
       "      <td>1</td>\n",
       "      <td>at_home</td>\n",
       "      <td>other</td>\n",
       "      <td>...</td>\n",
       "      <td>3</td>\n",
       "      <td>3</td>\n",
       "      <td>1</td>\n",
       "      <td>1</td>\n",
       "      <td>3</td>\n",
       "      <td>4</td>\n",
       "      <td>5</td>\n",
       "      <td>5</td>\n",
       "      <td>6</td>\n",
       "      <td>poor</td>\n",
       "    </tr>\n",
       "    <tr>\n",
       "      <th>2</th>\n",
       "      <td>GP</td>\n",
       "      <td>F</td>\n",
       "      <td>15</td>\n",
       "      <td>U</td>\n",
       "      <td>LE3</td>\n",
       "      <td>T</td>\n",
       "      <td>1</td>\n",
       "      <td>1</td>\n",
       "      <td>at_home</td>\n",
       "      <td>other</td>\n",
       "      <td>...</td>\n",
       "      <td>3</td>\n",
       "      <td>2</td>\n",
       "      <td>2</td>\n",
       "      <td>3</td>\n",
       "      <td>3</td>\n",
       "      <td>10</td>\n",
       "      <td>7</td>\n",
       "      <td>8</td>\n",
       "      <td>10</td>\n",
       "      <td>fair</td>\n",
       "    </tr>\n",
       "    <tr>\n",
       "      <th>3</th>\n",
       "      <td>GP</td>\n",
       "      <td>F</td>\n",
       "      <td>15</td>\n",
       "      <td>U</td>\n",
       "      <td>GT3</td>\n",
       "      <td>T</td>\n",
       "      <td>4</td>\n",
       "      <td>2</td>\n",
       "      <td>health</td>\n",
       "      <td>services</td>\n",
       "      <td>...</td>\n",
       "      <td>2</td>\n",
       "      <td>2</td>\n",
       "      <td>1</td>\n",
       "      <td>1</td>\n",
       "      <td>5</td>\n",
       "      <td>2</td>\n",
       "      <td>15</td>\n",
       "      <td>14</td>\n",
       "      <td>15</td>\n",
       "      <td>good</td>\n",
       "    </tr>\n",
       "    <tr>\n",
       "      <th>4</th>\n",
       "      <td>GP</td>\n",
       "      <td>F</td>\n",
       "      <td>16</td>\n",
       "      <td>U</td>\n",
       "      <td>GT3</td>\n",
       "      <td>T</td>\n",
       "      <td>3</td>\n",
       "      <td>3</td>\n",
       "      <td>other</td>\n",
       "      <td>other</td>\n",
       "      <td>...</td>\n",
       "      <td>3</td>\n",
       "      <td>2</td>\n",
       "      <td>1</td>\n",
       "      <td>2</td>\n",
       "      <td>5</td>\n",
       "      <td>4</td>\n",
       "      <td>6</td>\n",
       "      <td>10</td>\n",
       "      <td>10</td>\n",
       "      <td>fair</td>\n",
       "    </tr>\n",
       "  </tbody>\n",
       "</table>\n",
       "<p>5 rows × 34 columns</p>\n",
       "</div>"
      ],
      "text/plain": [
       "  school sex  age address family_size parents_status  mother_education  \\\n",
       "0     GP   F   18       U         GT3              A                 4   \n",
       "1     GP   F   17       U         GT3              T                 1   \n",
       "2     GP   F   15       U         LE3              T                 1   \n",
       "3     GP   F   15       U         GT3              T                 4   \n",
       "4     GP   F   16       U         GT3              T                 3   \n",
       "\n",
       "   father_education mother_job father_job  ... free_time go_out  \\\n",
       "0                 4    at_home    teacher  ...         3      4   \n",
       "1                 1    at_home      other  ...         3      3   \n",
       "2                 1    at_home      other  ...         3      2   \n",
       "3                 2     health   services  ...         2      2   \n",
       "4                 3      other      other  ...         3      2   \n",
       "\n",
       "   weekday_alcohol_usage  weekend_alcohol_usage  health absences  \\\n",
       "0                      1                      1       3        6   \n",
       "1                      1                      1       3        4   \n",
       "2                      2                      3       3       10   \n",
       "3                      1                      1       5        2   \n",
       "4                      1                      2       5        4   \n",
       "\n",
       "  period1_score period2_score final_score final_grade  \n",
       "0             5             6           6        poor  \n",
       "1             5             5           6        poor  \n",
       "2             7             8          10        fair  \n",
       "3            15            14          15        good  \n",
       "4             6            10          10        fair  \n",
       "\n",
       "[5 rows x 34 columns]"
      ]
     },
     "execution_count": 53,
     "metadata": {},
     "output_type": "execute_result"
    }
   ],
   "source": [
    "# convert final_score to categorical variable # Good:15~20 Fair:10~14 Poor:0~9\n",
    "df['final_grade'] = 'na'\n",
    "df.loc[(df.final_score >= 15) & (df.final_score <= 20), 'final_grade'] = 'good' \n",
    "df.loc[(df.final_score >= 10) & (df.final_score <= 14), 'final_grade'] = 'fair' \n",
    "df.loc[(df.final_score >= 0) & (df.final_score <= 9), 'final_grade'] = 'poor' \n",
    "df.head(5)"
   ]
  },
  {
   "cell_type": "markdown",
   "metadata": {},
   "source": [
    "# Data Preprocessing"
   ]
  },
  {
   "cell_type": "code",
   "execution_count": 54,
   "metadata": {},
   "outputs": [],
   "source": [
    "# Drop final score column\n",
    "df_class = df.drop(['final_score'], axis = 1)\n",
    "# Separate feature matrix and target variable\n",
    "y_class = df_class['final_grade'] #predict final grades so make final grades 'G3' the target variable\n",
    "X_class = df_class.loc[:, df_class.columns != 'final_grade'] \n",
    "#print(\"target variable:\",y_class)\n",
    "#print(\"feaature matrix:\", X_class.head())"
   ]
  },
  {
   "cell_type": "code",
   "execution_count": 55,
   "metadata": {},
   "outputs": [],
   "source": [
    "## Split data using KFold split\n",
    "random_state = 42\n",
    "\n",
    "# first split to separate out the test set\n",
    "X_class_other, X_class_test, y_class_other, y_class_test = train_test_split(X_class,y_class,test_size = 0.2,random_state=random_state)\n",
    "#print(X_class_other.shape,y_class_other.shape)\n",
    "#print('Feature test set:',X_class_test.shape, X_class_test.head(3), y_class_test.shape, y_class_test.head(3))\n",
    "\n",
    "# do KFold split on other\n",
    "kf = KFold(n_splits=5,shuffle=True,random_state=random_state)\n",
    "for train_index, val_index in kf.split(X_class_other,y_class_other):\n",
    "    X_class_train = X_class_other.iloc[train_index]\n",
    "    y_class_train = y_class_other.iloc[train_index]\n",
    "    X_class_val = X_class_other.iloc[val_index]\n",
    "    y_class_val = y_class_other.iloc[val_index]\n",
    "    #print(' Feature training set:',X_class_train.shape,  X_class_train.head(3), y_class_train.shape, y_class_train.head(3))\n",
    "    #print(' Feature validation set:',X_class_val.shape, X_class_val.head(3),y_class_val.shape, y_class_val.head(3)) \n",
    "    "
   ]
  },
  {
   "cell_type": "code",
   "execution_count": 56,
   "metadata": {},
   "outputs": [
    {
     "name": "stdout",
     "output_type": "stream",
     "text": [
      "(668, 32)\n",
      "(668, 55)\n",
      "Target variable for classifcation training prep set: (668,) 136    fair\n",
      "350    poor\n",
      "60     fair\n",
      "Name: final_grade, dtype: object\n",
      "Target variable for classifcation validation prep set: (167,) 256    fair\n",
      "535    fair\n",
      "397    fair\n",
      "Name: final_grade, dtype: object\n",
      "Target variable for classifcation validation prep set: (209,) 576    fair\n",
      "280    poor\n",
      "141    fair\n",
      "Name: final_grade, dtype: object\n"
     ]
    }
   ],
   "source": [
    "# collect which encoder to use on each feature\n",
    "# needs to be done manually\n",
    "onehot_ftrs = ['school','sex','age','address','family_size','parents_status', \n",
    "               'mother_job','father_job','reason','guardian','school_support',\n",
    "               'family_support','paid_classes','activities','nursery','desire_higher_edu','internet','romantic']\n",
    "minmax_ftrs = ['age','absences']\n",
    "std_ftrs = ['period1_score','period2_score']\n",
    "\n",
    "# collect all the encoders\n",
    "preprocessor = ColumnTransformer(\n",
    "    transformers=[\n",
    "        ('onehot', OneHotEncoder(sparse=False,handle_unknown='ignore'), onehot_ftrs),\n",
    "        ('minmax', MinMaxScaler(), minmax_ftrs),\n",
    "        ('std', StandardScaler(), std_ftrs)])\n",
    "\n",
    "clf = Pipeline(steps=[('preprocessor', preprocessor)]) # for now we only preprocess \n",
    "                                                       # later on we will add other steps here\n",
    "\n",
    "X_class_train_prep = clf.fit_transform(X_class_train)\n",
    "X_class_val_prep = clf.transform(X_class_val)\n",
    "X_class_test_prep = clf.transform(X_class_test)\n",
    "\n",
    "print(X_class_train.shape)\n",
    "print(X_class_train_prep.shape)\n",
    "\n",
    "#apply label encoder to target variable \n",
    "le = LabelEncoder()\n",
    "y_class_train_prep = le.fit_transform(y_class_train)\n",
    "print('Target variable for classifcation training prep set:', y_class_train.shape, y_class_train.head(3)) \n",
    "y_class_val_prep = le.transform(y_class_val)\n",
    "print('Target variable for classifcation validation prep set:', y_class_val.shape, y_class_val.head(3)) \n",
    "y_class_test_prep = le.transform(y_class_test)\n",
    "print('Target variable for classifcation validation prep set:', y_class_test.shape, y_class_test.head(3)) "
   ]
  },
  {
   "cell_type": "markdown",
   "metadata": {},
   "source": [
    "# Hyperparameter Tuning"
   ]
  },
  {
   "cell_type": "markdown",
   "metadata": {},
   "source": [
    "## Baseline accuracy"
   ]
  },
  {
   "cell_type": "code",
   "execution_count": 69,
   "metadata": {},
   "outputs": [
    {
     "data": {
      "text/plain": [
       "count     1044\n",
       "unique       3\n",
       "top       fair\n",
       "freq       610\n",
       "Name: final_grade, dtype: object"
      ]
     },
     "execution_count": 69,
     "metadata": {},
     "output_type": "execute_result"
    }
   ],
   "source": [
    "df_class['final_grade'].describe()"
   ]
  },
  {
   "cell_type": "code",
   "execution_count": 67,
   "metadata": {},
   "outputs": [
    {
     "data": {
      "text/plain": [
       "0.5842911877394636"
      ]
     },
     "execution_count": 67,
     "metadata": {},
     "output_type": "execute_result"
    }
   ],
   "source": [
    "610/len(df_class['final_grade'])"
   ]
  },
  {
   "cell_type": "markdown",
   "metadata": {},
   "source": [
    "## Function"
   ]
  },
  {
   "cell_type": "code",
   "execution_count": 57,
   "metadata": {},
   "outputs": [],
   "source": [
    "mean_test_scores = []\n",
    "std_test_scores = []\n",
    "def MLpipe_KFold_Acc(X,y,preprocessor,ML_algo,param_grid):\n",
    "    '''\n",
    "    This function splits the data to other/test (80/20) and then applies KFold with 4 folds to other.\n",
    "    The RMSE is minimized in cross-validation.\n",
    "    '''\n",
    "    test_scores = np.zeros(10)\n",
    "    best_models = []\n",
    "    \n",
    "    \n",
    "    # loop through 10 random states (2 points)\n",
    "    for i in range(1,10):\n",
    "    \n",
    "        # split data to other/test 80/20, and the use KFold with 4 folds (2 points)\n",
    "        # first split to separate out the test set\n",
    "        X_other, X_test, y_other, y_test = train_test_split(X,y,test_size = 0.2,random_state=42*i)\n",
    "        #print(X_other.shape,y_other.shape)\n",
    "        #print('test set:',X_test.shape,y_test.shape)\n",
    "        \n",
    "        #label encoder\n",
    "        le = LabelEncoder()\n",
    "        y_other_prep = le.fit_transform(y_other)\n",
    "        y_test_prep = le.transform(y_test)\n",
    "\n",
    "        # do KFold split on other\n",
    "        kf = KFold(n_splits=4,shuffle=True,random_state=42*i)\n",
    "\n",
    "        # preprocess the data (1 point)\n",
    "        pipe = make_pipeline(preprocessor,ML_algo)\n",
    "        \n",
    "        # loop through the hyperparameter combinations or use GridSearchCV (2 points)\n",
    "        ##create grid search CV with the pipeline, parameter grid, and scoring metric\n",
    "        grid = GridSearchCV(pipe, param_grid=param_grid,scoring = make_scorer(accuracy_score, greater_is_better=True),\n",
    "                        cv=kf, return_train_score = True, n_jobs = -1)\n",
    "\n",
    "        # for each combination, calculate the train and validation scores using the evaluation metric\n",
    "        grid.fit(X_other, y_other_prep)\n",
    "        \n",
    "        #save results to a datafrmae\n",
    "        #results = pd.DataFrame(grid.cv_results_)\n",
    "        #print(results[['params', 'mean_test_score', 'mean_train_score']])\n",
    "\n",
    "        # find which hyperparameter combination gives the best validation score (1 point)\n",
    "        print(\"best model parameters:\", grid.best_params_)\n",
    "        print('validation score:',grid.best_score_)\n",
    "\n",
    "        # calculate the best model\n",
    "        best_models.append(grid)\n",
    "        \n",
    "        # calculate and save the test score\n",
    "        y_test_pred = best_models[-1].predict(X_test)\n",
    "        test_scores[i] = accuracy_score(y_test_prep,y_test_pred)\n",
    "        print('test score:', test_scores[i])\n",
    "        \n",
    "    return best_models, test_scores"
   ]
  },
  {
   "cell_type": "markdown",
   "metadata": {},
   "source": [
    "## Apply on models"
   ]
  },
  {
   "cell_type": "code",
   "execution_count": 70,
   "metadata": {},
   "outputs": [
    {
     "name": "stdout",
     "output_type": "stream",
     "text": [
      "best model parameters: {'randomforestclassifier__max_depth': 1, 'randomforestclassifier__max_features': 0.5}\n",
      "validation score: 0.6036299227088701\n",
      "test score: 0.507177033492823\n",
      "best model parameters: {'randomforestclassifier__max_depth': 3, 'randomforestclassifier__max_features': 0.75}\n",
      "validation score: 0.5928758741258741\n",
      "test score: 0.5885167464114832\n",
      "best model parameters: {'randomforestclassifier__max_depth': 3, 'randomforestclassifier__max_features': 1.0}\n",
      "validation score: 0.5963608759661392\n",
      "test score: 0.5454545454545454\n",
      "best model parameters: {'randomforestclassifier__max_depth': 10, 'randomforestclassifier__max_features': 0.5}\n",
      "validation score: 0.5856585848362164\n",
      "test score: 0.569377990430622\n",
      "best model parameters: {'randomforestclassifier__max_depth': 3, 'randomforestclassifier__max_features': 0.75}\n",
      "validation score: 0.5927608575634893\n",
      "test score: 0.5598086124401914\n",
      "best model parameters: {'randomforestclassifier__max_depth': 3, 'randomforestclassifier__max_features': 0.5}\n",
      "validation score: 0.5892758557232242\n",
      "test score: 0.5550239234449761\n",
      "best model parameters: {'randomforestclassifier__max_depth': 3, 'randomforestclassifier__max_features': 0.75}\n",
      "validation score: 0.568848914243651\n",
      "test score: 0.6172248803827751\n",
      "best model parameters: {'randomforestclassifier__max_depth': 1, 'randomforestclassifier__max_features': 0.75}\n",
      "validation score: 0.5976145564961355\n",
      "test score: 0.5406698564593302\n",
      "best model parameters: {'randomforestclassifier__max_depth': 3, 'randomforestclassifier__max_features': 0.5}\n",
      "validation score: 0.5712297570850202\n",
      "test score: 0.6220095693779905\n",
      "[0.         0.50717703 0.58851675 0.54545455 0.56937799 0.55980861\n",
      " 0.55502392 0.61722488 0.54066986 0.62200957]\n",
      "mean test score: [0.5033492822966508, 0.5220095693779905, 0.509090909090909, 0.5105263157894737]\n",
      "standard deviation test score: [0.17028115919261416, 0.17694877062357994, 0.17317930486341443, 0.17336229674326142]\n"
     ]
    }
   ],
   "source": [
    "#1. RF Classifier\n",
    "#ML ago\n",
    "ML_algo = RandomForestClassifier()\n",
    "#encoders and preprocessors\n",
    "preprocessor = ColumnTransformer(\n",
    "    transformers=[\n",
    "        ('onehot', OneHotEncoder(sparse=False,handle_unknown='ignore'), onehot_ftrs),\n",
    "        ('minmax', MinMaxScaler(), minmax_ftrs)])\n",
    "#parameters\n",
    "param_grid = {\n",
    "              'randomforestclassifier__max_depth': [1, 3, 10, 30], # the max_depth should be smaller or equal than the number of features roughly\n",
    "              'randomforestclassifier__max_features': [0.5,0.75,1.0] # linearly spaced between 0.5 and 1\n",
    "              } \n",
    "#calculation\n",
    "models, scores = MLpipe_KFold_Acc(X_class,y_class,preprocessor,ML_algo,param_grid)\n",
    "print(scores)\n",
    "\n",
    "\n",
    "#calculate mean and standard deviation of test scores\n",
    "mean_test_score = np.mean(scores)\n",
    "std_test_score = np.std(scores)\n",
    "\n",
    "#append to the list\n",
    "mean_test_scores.append(mean_test_score)\n",
    "std_test_scores.append(std_test_score)\n",
    "\n",
    "print(\"mean test score:\", mean_test_scores)\n",
    "print(\"standard deviation test score:\", std_test_scores)"
   ]
  },
  {
   "cell_type": "markdown",
   "metadata": {},
   "source": [
    "**Comments**\n",
    "Best model is random forest regressor \n",
    "best model parameters: {'randomforestclassifier__max_depth': 3, 'randomforestclassifier__max_features': 0.5}\n",
    "validation score: 0.5712297570850202\n",
    "test score: 0.6220095693779905"
   ]
  },
  {
   "cell_type": "code",
   "execution_count": 71,
   "metadata": {},
   "outputs": [
    {
     "name": "stdout",
     "output_type": "stream",
     "text": [
      "best model parameters: {'svc__C': 4.6415888336127775, 'svc__gamma': 2154.4346900318824}\n",
      "validation score: 0.6155858943687891\n",
      "test score: 0.5263157894736842\n",
      "best model parameters: {'svc__C': 1.0, 'svc__gamma': 464.1588833612773}\n",
      "validation score: 0.5952624677953626\n",
      "test score: 0.5789473684210527\n",
      "best model parameters: {'svc__C': 4.6415888336127775, 'svc__gamma': 2154.4346900318824}\n",
      "validation score: 0.6023532388663968\n",
      "test score: 0.5645933014354066\n",
      "best model parameters: {'svc__C': 1.0, 'svc__gamma': 464.1588833612773}\n",
      "validation score: 0.5940605447184395\n",
      "test score: 0.5933014354066986\n",
      "best model parameters: {'svc__C': 1.0, 'svc__gamma': 464.1588833612773}\n",
      "validation score: 0.6023474880382775\n",
      "test score: 0.569377990430622\n",
      "best model parameters: {'svc__C': 1.0, 'svc__gamma': 464.1588833612773}\n",
      "validation score: 0.5880681818181818\n",
      "test score: 0.5980861244019139\n",
      "best model parameters: {'svc__C': 4.6415888336127775, 'svc__gamma': 2154.4346900318824}\n",
      "validation score: 0.5880049227088702\n",
      "test score: 0.6411483253588517\n",
      "best model parameters: {'svc__C': 0.01, 'svc__gamma': 0.01}\n",
      "validation score: 0.5952107103422893\n",
      "test score: 0.5406698564593302\n",
      "best model parameters: {'svc__C': 4.6415888336127775, 'svc__gamma': 2154.4346900318824}\n",
      "validation score: 0.5856068273831432\n",
      "test score: 0.6220095693779905\n",
      "[0.         0.52631579 0.57894737 0.5645933  0.59330144 0.56937799\n",
      " 0.59808612 0.64114833 0.54066986 0.62200957]\n",
      "mean test score: [0.5033492822966508, 0.5220095693779905, 0.509090909090909, 0.5105263157894737, 0.523444976076555]\n",
      "standard deviation test score: [0.17028115919261416, 0.17694877062357994, 0.17317930486341443, 0.17336229674326142, 0.17753968753927069]\n"
     ]
    }
   ],
   "source": [
    "#2. SVC\n",
    "from sklearn.svm import SVC\n",
    "\n",
    "#ML ago\n",
    "ML_algo = SVC()\n",
    "#encoders and preprocessors\n",
    "preprocessor = ColumnTransformer(\n",
    "    transformers=[\n",
    "        ('onehot', OneHotEncoder(sparse=False,handle_unknown='ignore'), onehot_ftrs),\n",
    "        ('minmax', MinMaxScaler(), minmax_ftrs)])\n",
    "#parameters\n",
    "param_grid = {'svc__C': np.logspace(-2,4,num=10),'svc__gamma': np.logspace(-2,4,num=10)}\n",
    "#calculation\n",
    "models, scores = MLpipe_KFold_Acc(X_class,y_class,preprocessor,ML_algo,param_grid)\n",
    "print(scores)\n",
    "\n",
    "\n",
    "#calculate mean and standard deviation of test scores\n",
    "mean_test_score = np.mean(scores)\n",
    "std_test_score = np.std(scores)\n",
    "\n",
    "#append to the list\n",
    "mean_test_scores.append(mean_test_score)\n",
    "std_test_scores.append(std_test_score)\n",
    "\n",
    "print(\"mean test score:\", mean_test_scores)\n",
    "print(\"standard deviation test score:\", std_test_scores)"
   ]
  },
  {
   "cell_type": "markdown",
   "metadata": {},
   "source": [
    "**Comments**\n",
    "Best model is SVC\n",
    "best model parameters: {'svc__C': 4.6415888336127775, 'svc__gamma': 2154.4346900318824}\n",
    "validation score: 0.5880049227088702\n",
    "test score: 0.6411483253588517"
   ]
  },
  {
   "cell_type": "code",
   "execution_count": 72,
   "metadata": {},
   "outputs": [
    {
     "name": "stdout",
     "output_type": "stream",
     "text": [
      "best model parameters: {'kneighborsclassifier__n_neighbors': 33, 'kneighborsclassifier__weights': 'uniform'}\n",
      "validation score: 0.6060165163783584\n",
      "test score: 0.507177033492823\n",
      "best model parameters: {'kneighborsclassifier__n_neighbors': 37, 'kneighborsclassifier__weights': 'uniform'}\n",
      "validation score: 0.5904777788001472\n",
      "test score: 0.569377990430622\n",
      "best model parameters: {'kneighborsclassifier__n_neighbors': 45, 'kneighborsclassifier__weights': 'distance'}\n",
      "validation score: 0.5963378726536621\n",
      "test score: 0.5311004784688995\n",
      "best model parameters: {'kneighborsclassifier__n_neighbors': 41, 'kneighborsclassifier__weights': 'uniform'}\n",
      "validation score: 0.5844624125874125\n",
      "test score: 0.5933014354066986\n",
      "best model parameters: {'kneighborsclassifier__n_neighbors': 29, 'kneighborsclassifier__weights': 'uniform'}\n",
      "validation score: 0.5903512605815238\n",
      "test score: 0.5502392344497608\n",
      "best model parameters: {'kneighborsclassifier__n_neighbors': 45, 'kneighborsclassifier__weights': 'uniform'}\n",
      "validation score: 0.5856643356643356\n",
      "test score: 0.583732057416268\n",
      "best model parameters: {'kneighborsclassifier__n_neighbors': 45, 'kneighborsclassifier__weights': 'uniform'}\n",
      "validation score: 0.5724546834744203\n",
      "test score: 0.6267942583732058\n",
      "best model parameters: {'kneighborsclassifier__n_neighbors': 25, 'kneighborsclassifier__weights': 'uniform'}\n",
      "validation score: 0.6000184026499816\n",
      "test score: 0.5311004784688995\n",
      "best model parameters: {'kneighborsclassifier__n_neighbors': 45, 'kneighborsclassifier__weights': 'distance'}\n",
      "validation score: 0.5772336216415164\n",
      "test score: 0.5980861244019139\n",
      "[0.         0.50717703 0.56937799 0.53110048 0.59330144 0.55023923\n",
      " 0.58373206 0.62679426 0.53110048 0.59808612]\n",
      "mean test score: [0.5033492822966508, 0.5220095693779905, 0.509090909090909, 0.5105263157894737, 0.523444976076555, 0.509090909090909]\n",
      "standard deviation test score: [0.17028115919261416, 0.17694877062357994, 0.17317930486341443, 0.17336229674326142, 0.17753968753927069, 0.17317930486341443]\n"
     ]
    }
   ],
   "source": [
    "#3. KNN Classifier\n",
    "from sklearn.neighbors import KNeighborsClassifier\n",
    "#ML ago\n",
    "ML_algo = KNeighborsClassifier()\n",
    "#encoders and preprocessors\n",
    "preprocessor = ColumnTransformer(\n",
    "    transformers=[\n",
    "        ('onehot', OneHotEncoder(sparse=False,handle_unknown='ignore'), onehot_ftrs),\n",
    "        ('minmax', MinMaxScaler(), minmax_ftrs)])\n",
    "#parameters\n",
    "param_grid = {'kneighborsclassifier__n_neighbors': np.arange(1,50,4), 'kneighborsclassifier__weights': ['uniform', 'distance']}\n",
    "#calculation\n",
    "models, scores = MLpipe_KFold_Acc(X_class,y_class,preprocessor,ML_algo,param_grid)\n",
    "print(scores)\n",
    "\n",
    "\n",
    "#calculate mean and standard deviation of test scores\n",
    "mean_test_score = np.mean(scores)\n",
    "std_test_score = np.std(scores)\n",
    "\n",
    "#append to the list\n",
    "mean_test_scores.append(mean_test_score)\n",
    "std_test_scores.append(std_test_score)\n",
    "\n",
    "print(\"mean test score:\", mean_test_scores)\n",
    "print(\"standard deviation test score:\", std_test_scores)"
   ]
  },
  {
   "cell_type": "markdown",
   "metadata": {},
   "source": [
    "**Comments**\n",
    "Best model for KNN\n",
    "best model parameters: {'kneighborsclassifier__n_neighbors': 45, 'kneighborsclassifier__weights': 'uniform'}\n",
    "validation score: 0.5724546834744203\n",
    "test score: 0.6267942583732058"
   ]
  },
  {
   "cell_type": "code",
   "execution_count": 61,
   "metadata": {},
   "outputs": [],
   "source": [
    "ML_models = ['RF Classifier', 'SVC', 'KNN-Classification']"
   ]
  },
  {
   "cell_type": "code",
   "execution_count": 62,
   "metadata": {},
   "outputs": [
    {
     "data": {
      "text/plain": [
       "Text(0, 0.5, \" mean and standard deviation of each algo's best models\")"
      ]
     },
     "execution_count": 62,
     "metadata": {},
     "output_type": "execute_result"
    },
    {
     "data": {
      "image/png": "[encoded data removed]",
      "text/plain": [
       "<Figure size 432x288 with 1 Axes>"
      ]
     },
     "metadata": {
      "needs_background": "light"
     },
     "output_type": "display_data"
    }
   ],
   "source": [
    "plt.errorbar(ML_models ,mean_test_scores, yerr = std_test_scores, fmt=\"o\")\n",
    "plt.xlabel(\"ML Models\")\n",
    "plt.ylabel(\" mean and standard deviation of each algo's best models\")"
   ]
  },
  {
   "cell_type": "markdown",
   "metadata": {},
   "source": [
    "**Comments**\n",
    "SVC"
   ]
  },
  {
   "cell_type": "code",
   "execution_count": null,
   "metadata": {},
   "outputs": [],
   "source": []
  }
 ],
 "metadata": {
  "kernelspec": {
   "display_name": "Python 3",
   "language": "python",
   "name": "python3"
  },
  "language_info": {
   "codemirror_mode": {
    "name": "ipython",
    "version": 3
   },
   "file_extension": ".py",
   "mimetype": "text/x-python",
   "name": "python",
   "nbconvert_exporter": "python",
   "pygments_lexer": "ipython3",
   "version": "3.8.3"
  }
 },
 "nbformat": 4,
 "nbformat_minor": 4
}
